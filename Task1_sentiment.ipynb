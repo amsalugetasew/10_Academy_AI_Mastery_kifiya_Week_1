{
 "cells": [
  {
   "cell_type": "code",
   "execution_count": 34,
   "metadata": {},
   "outputs": [],
   "source": [
    "import re\n",
    "import pandas as pd\n",
    "import numpy as np\n",
    "import matplotlib.pyplot as pl\n",
    "from sklearn.preprocessing import LabelEncoder"
   ]
  },
  {
   "cell_type": "code",
   "execution_count": 3,
   "metadata": {},
   "outputs": [],
   "source": [
    "df = pd.read_csv(\"data/raw_analyst_ratings_csv/raw_analyst_ratings.csv\")"
   ]
  },
  {
   "cell_type": "code",
   "execution_count": 28,
   "metadata": {},
   "outputs": [
    {
     "data": {
      "text/html": [
       "<div>\n",
       "<style scoped>\n",
       "    .dataframe tbody tr th:only-of-type {\n",
       "        vertical-align: middle;\n",
       "    }\n",
       "\n",
       "    .dataframe tbody tr th {\n",
       "        vertical-align: top;\n",
       "    }\n",
       "\n",
       "    .dataframe thead th {\n",
       "        text-align: right;\n",
       "    }\n",
       "</style>\n",
       "<table border=\"1\" class=\"dataframe\">\n",
       "  <thead>\n",
       "    <tr style=\"text-align: right;\">\n",
       "      <th></th>\n",
       "      <th>Unnamed: 0</th>\n",
       "      <th>headline</th>\n",
       "      <th>url</th>\n",
       "      <th>publisher</th>\n",
       "      <th>date</th>\n",
       "      <th>stock</th>\n",
       "    </tr>\n",
       "  </thead>\n",
       "  <tbody>\n",
       "    <tr>\n",
       "      <th>0</th>\n",
       "      <td>0</td>\n",
       "      <td>Stocks That Hit 52-Week Highs On Friday</td>\n",
       "      <td>https://www.benzinga.com/news/20/06/16190091/s...</td>\n",
       "      <td>Benzinga Insights</td>\n",
       "      <td>2020-06-05 10:30:54-04:00</td>\n",
       "      <td>A</td>\n",
       "    </tr>\n",
       "    <tr>\n",
       "      <th>1</th>\n",
       "      <td>1</td>\n",
       "      <td>Stocks That Hit 52-Week Highs On Wednesday</td>\n",
       "      <td>https://www.benzinga.com/news/20/06/16170189/s...</td>\n",
       "      <td>Benzinga Insights</td>\n",
       "      <td>2020-06-03 10:45:20-04:00</td>\n",
       "      <td>A</td>\n",
       "    </tr>\n",
       "    <tr>\n",
       "      <th>2</th>\n",
       "      <td>2</td>\n",
       "      <td>71 Biggest Movers From Friday</td>\n",
       "      <td>https://www.benzinga.com/news/20/05/16103463/7...</td>\n",
       "      <td>Lisa Levin</td>\n",
       "      <td>2020-05-26 04:30:07-04:00</td>\n",
       "      <td>A</td>\n",
       "    </tr>\n",
       "    <tr>\n",
       "      <th>3</th>\n",
       "      <td>3</td>\n",
       "      <td>46 Stocks Moving In Friday's Mid-Day Session</td>\n",
       "      <td>https://www.benzinga.com/news/20/05/16095921/4...</td>\n",
       "      <td>Lisa Levin</td>\n",
       "      <td>2020-05-22 12:45:06-04:00</td>\n",
       "      <td>A</td>\n",
       "    </tr>\n",
       "    <tr>\n",
       "      <th>4</th>\n",
       "      <td>4</td>\n",
       "      <td>B of A Securities Maintains Neutral on Agilent...</td>\n",
       "      <td>https://www.benzinga.com/news/20/05/16095304/b...</td>\n",
       "      <td>Vick Meyer</td>\n",
       "      <td>2020-05-22 11:38:59-04:00</td>\n",
       "      <td>A</td>\n",
       "    </tr>\n",
       "  </tbody>\n",
       "</table>\n",
       "</div>"
      ],
      "text/plain": [
       "   Unnamed: 0                                           headline  \\\n",
       "0           0            Stocks That Hit 52-Week Highs On Friday   \n",
       "1           1         Stocks That Hit 52-Week Highs On Wednesday   \n",
       "2           2                      71 Biggest Movers From Friday   \n",
       "3           3       46 Stocks Moving In Friday's Mid-Day Session   \n",
       "4           4  B of A Securities Maintains Neutral on Agilent...   \n",
       "\n",
       "                                                 url          publisher  \\\n",
       "0  https://www.benzinga.com/news/20/06/16190091/s...  Benzinga Insights   \n",
       "1  https://www.benzinga.com/news/20/06/16170189/s...  Benzinga Insights   \n",
       "2  https://www.benzinga.com/news/20/05/16103463/7...         Lisa Levin   \n",
       "3  https://www.benzinga.com/news/20/05/16095921/4...         Lisa Levin   \n",
       "4  https://www.benzinga.com/news/20/05/16095304/b...         Vick Meyer   \n",
       "\n",
       "                        date stock  \n",
       "0  2020-06-05 10:30:54-04:00     A  \n",
       "1  2020-06-03 10:45:20-04:00     A  \n",
       "2  2020-05-26 04:30:07-04:00     A  \n",
       "3  2020-05-22 12:45:06-04:00     A  \n",
       "4  2020-05-22 11:38:59-04:00     A  "
      ]
     },
     "execution_count": 28,
     "metadata": {},
     "output_type": "execute_result"
    }
   ],
   "source": [
    "df.head()"
   ]
  },
  {
   "cell_type": "code",
   "execution_count": 29,
   "metadata": {},
   "outputs": [
    {
     "name": "stdout",
     "output_type": "stream",
     "text": [
      "<class 'pandas.core.frame.DataFrame'>\n",
      "RangeIndex: 1407328 entries, 0 to 1407327\n",
      "Data columns (total 6 columns):\n",
      " #   Column      Non-Null Count    Dtype \n",
      "---  ------      --------------    ----- \n",
      " 0   Unnamed: 0  1407328 non-null  int64 \n",
      " 1   headline    1407328 non-null  object\n",
      " 2   url         1407328 non-null  object\n",
      " 3   publisher   1407328 non-null  object\n",
      " 4   date        1407328 non-null  object\n",
      " 5   stock       1407328 non-null  object\n",
      "dtypes: int64(1), object(5)\n",
      "memory usage: 64.4+ MB\n"
     ]
    }
   ],
   "source": [
    "df.info()"
   ]
  },
  {
   "cell_type": "markdown",
   "metadata": {},
   "source": [
    "This dataset contains <span style=\"color:pink\">*1,407,328 rows*</span> and <span style=\"color:pink\">*6 columns*</span> with no missing values in any column. Here’s a quick analysis of its structure:\n",
    "\n",
    "### 1. Columns and Data Types:\n",
    "\n",
    "* <span style=\"color:orange\">***Unnamed: 0:***</span> Integer index column, <span style=\"color:red\">that uniquely identified the rows </span> likely unnecessary and can be dropped.<br>\n",
    "* <span style=\"color:orange\">***headline:***</span>  Text data (object), likely representing news headlines. <span style=\"color:teal\">*Sentement texts*</span><br>\n",
    "* <span style=\"color:orange\">***url:***</span>  Text data (object), contains links to the news articles.<br>\n",
    "* <span style=\"color:orange\">***publisher:***</span>  Text data (object), represents the source or publisher of the news.<br>\n",
    "* <span style=\"color:orange\">***date:***</span>  Text data (object), represents the date of the news, which can be converted to datetime for analysis.\n",
    "* <span style=\"color:orange\">***stock:***</span>  Text data (object), seems to represent stock identifiers or related information.\n",
    "### 2. Data Characteristics:\n",
    "\n",
    "* All columns are complete (non-null)<br>\n",
    "* Most columns are text-heavy (headline, url, publisher, stock) and may require preprocessing for further analysis, especially if this is used in NLP or stock market prediction tasks.<br>\n",
    "* The date column can be valuable for time-series analysis or trend studies.<br>\n",
    "### 3. What I planned to do in Next Steps as per the above two results are:\n",
    "\n",
    "* ***Clean the data***: Drop <span style=\"color:brown\">Unnamed: 0</span> if redundant.\n",
    "* ***Preprocess the text***: Tokenize or clean <span style=\"color:brown\">headline</span> and <span style=\"color:brown\">publisher</span> for NLP tasks.\n",
    "* ***Convert <span style=\"color:brown\">date</span> to datetime***: For temporal analysis.\n",
    "* ***Investigate <span style=\"color:brown\">stock</span>***: Understand its role—does it correspond to stock tickers or categories?"
   ]
  },
  {
   "cell_type": "markdown",
   "metadata": {},
   "source": [
    "# Preprocessing "
   ]
  },
  {
   "cell_type": "markdown",
   "metadata": {},
   "source": [
    "First and for most on preprocessing phase is checking missing values. The below code shows me there is no missing value as well the above information too. "
   ]
  },
  {
   "cell_type": "code",
   "execution_count": 9,
   "metadata": {},
   "outputs": [
    {
     "data": {
      "text/html": [
       "<div>\n",
       "<style scoped>\n",
       "    .dataframe tbody tr th:only-of-type {\n",
       "        vertical-align: middle;\n",
       "    }\n",
       "\n",
       "    .dataframe tbody tr th {\n",
       "        vertical-align: top;\n",
       "    }\n",
       "\n",
       "    .dataframe thead th {\n",
       "        text-align: right;\n",
       "    }\n",
       "</style>\n",
       "<table border=\"1\" class=\"dataframe\">\n",
       "  <thead>\n",
       "    <tr style=\"text-align: right;\">\n",
       "      <th></th>\n",
       "      <th>headline</th>\n",
       "      <th>url</th>\n",
       "      <th>publisher</th>\n",
       "      <th>date</th>\n",
       "      <th>stock</th>\n",
       "    </tr>\n",
       "  </thead>\n",
       "  <tbody>\n",
       "    <tr>\n",
       "      <th>10</th>\n",
       "      <td>30 Stocks Moving in Friday's Pre-Market Session</td>\n",
       "      <td>https://www.benzinga.com/news/20/05/16092879/3...</td>\n",
       "      <td>Lisa Levin</td>\n",
       "      <td>NaT</td>\n",
       "      <td>A</td>\n",
       "    </tr>\n",
       "    <tr>\n",
       "      <th>11</th>\n",
       "      <td>SVB Leerink Maintains Outperform on Agilent Te...</td>\n",
       "      <td>https://www.benzinga.com/news/20/05/16092270/s...</td>\n",
       "      <td>vishwanath@benzinga.com</td>\n",
       "      <td>NaT</td>\n",
       "      <td>A</td>\n",
       "    </tr>\n",
       "    <tr>\n",
       "      <th>12</th>\n",
       "      <td>8 Stocks Moving In Thursday's After-Hours Session</td>\n",
       "      <td>https://www.benzinga.com/news/20/05/16089803/8...</td>\n",
       "      <td>Tyree Gorges</td>\n",
       "      <td>NaT</td>\n",
       "      <td>A</td>\n",
       "    </tr>\n",
       "    <tr>\n",
       "      <th>13</th>\n",
       "      <td>Agilent Technologies shares are trading higher...</td>\n",
       "      <td>https://www.benzinga.com/wiim/20/05/16089218/a...</td>\n",
       "      <td>Benzinga Newsdesk</td>\n",
       "      <td>NaT</td>\n",
       "      <td>A</td>\n",
       "    </tr>\n",
       "    <tr>\n",
       "      <th>14</th>\n",
       "      <td>Agilent Technologies Q2 Adj. EPS $0.71 Beats $...</td>\n",
       "      <td>https://www.benzinga.com/news/earnings/20/05/1...</td>\n",
       "      <td>Benzinga Newsdesk</td>\n",
       "      <td>NaT</td>\n",
       "      <td>A</td>\n",
       "    </tr>\n",
       "    <tr>\n",
       "      <th>...</th>\n",
       "      <td>...</td>\n",
       "      <td>...</td>\n",
       "      <td>...</td>\n",
       "      <td>...</td>\n",
       "      <td>...</td>\n",
       "    </tr>\n",
       "    <tr>\n",
       "      <th>1407323</th>\n",
       "      <td>Top Narrow Based Indexes For August 29</td>\n",
       "      <td>https://www.benzinga.com/news/11/08/1888782/to...</td>\n",
       "      <td>Monica Gerson</td>\n",
       "      <td>NaT</td>\n",
       "      <td>ZX</td>\n",
       "    </tr>\n",
       "    <tr>\n",
       "      <th>1407324</th>\n",
       "      <td>Recap: Wednesday's Top Percentage Gainers and ...</td>\n",
       "      <td>https://www.benzinga.com/news/earnings/11/06/1...</td>\n",
       "      <td>Benjamin Lee</td>\n",
       "      <td>NaT</td>\n",
       "      <td>ZX</td>\n",
       "    </tr>\n",
       "    <tr>\n",
       "      <th>1407325</th>\n",
       "      <td>UPDATE: Oppenheimer Color on China Zenix Auto ...</td>\n",
       "      <td>https://www.benzinga.com/analyst-ratings/analy...</td>\n",
       "      <td>BenzingaStaffL</td>\n",
       "      <td>NaT</td>\n",
       "      <td>ZX</td>\n",
       "    </tr>\n",
       "    <tr>\n",
       "      <th>1407326</th>\n",
       "      <td>Oppenheimer Initiates China Zenix At Outperfor...</td>\n",
       "      <td>https://www.benzinga.com/analyst-ratings/price...</td>\n",
       "      <td>Joe Young</td>\n",
       "      <td>NaT</td>\n",
       "      <td>ZX</td>\n",
       "    </tr>\n",
       "    <tr>\n",
       "      <th>1407327</th>\n",
       "      <td>China Zenix Auto International Opens For Tradi...</td>\n",
       "      <td>https://www.benzinga.com/news/ipos/11/05/10789...</td>\n",
       "      <td>Allie Wickman</td>\n",
       "      <td>NaT</td>\n",
       "      <td>ZX</td>\n",
       "    </tr>\n",
       "  </tbody>\n",
       "</table>\n",
       "<p>1351341 rows × 5 columns</p>\n",
       "</div>"
      ],
      "text/plain": [
       "                                                  headline  \\\n",
       "10         30 Stocks Moving in Friday's Pre-Market Session   \n",
       "11       SVB Leerink Maintains Outperform on Agilent Te...   \n",
       "12       8 Stocks Moving In Thursday's After-Hours Session   \n",
       "13       Agilent Technologies shares are trading higher...   \n",
       "14       Agilent Technologies Q2 Adj. EPS $0.71 Beats $...   \n",
       "...                                                    ...   \n",
       "1407323             Top Narrow Based Indexes For August 29   \n",
       "1407324  Recap: Wednesday's Top Percentage Gainers and ...   \n",
       "1407325  UPDATE: Oppenheimer Color on China Zenix Auto ...   \n",
       "1407326  Oppenheimer Initiates China Zenix At Outperfor...   \n",
       "1407327  China Zenix Auto International Opens For Tradi...   \n",
       "\n",
       "                                                       url  \\\n",
       "10       https://www.benzinga.com/news/20/05/16092879/3...   \n",
       "11       https://www.benzinga.com/news/20/05/16092270/s...   \n",
       "12       https://www.benzinga.com/news/20/05/16089803/8...   \n",
       "13       https://www.benzinga.com/wiim/20/05/16089218/a...   \n",
       "14       https://www.benzinga.com/news/earnings/20/05/1...   \n",
       "...                                                    ...   \n",
       "1407323  https://www.benzinga.com/news/11/08/1888782/to...   \n",
       "1407324  https://www.benzinga.com/news/earnings/11/06/1...   \n",
       "1407325  https://www.benzinga.com/analyst-ratings/analy...   \n",
       "1407326  https://www.benzinga.com/analyst-ratings/price...   \n",
       "1407327  https://www.benzinga.com/news/ipos/11/05/10789...   \n",
       "\n",
       "                       publisher date stock  \n",
       "10                    Lisa Levin  NaT     A  \n",
       "11       vishwanath@benzinga.com  NaT     A  \n",
       "12                  Tyree Gorges  NaT     A  \n",
       "13             Benzinga Newsdesk  NaT     A  \n",
       "14             Benzinga Newsdesk  NaT     A  \n",
       "...                          ...  ...   ...  \n",
       "1407323            Monica Gerson  NaT    ZX  \n",
       "1407324             Benjamin Lee  NaT    ZX  \n",
       "1407325           BenzingaStaffL  NaT    ZX  \n",
       "1407326                Joe Young  NaT    ZX  \n",
       "1407327            Allie Wickman  NaT    ZX  \n",
       "\n",
       "[1351341 rows x 5 columns]"
      ]
     },
     "execution_count": 9,
     "metadata": {},
     "output_type": "execute_result"
    }
   ],
   "source": [
    "df[df.isnull().any(axis=1) ]"
   ]
  },
  {
   "cell_type": "markdown",
   "metadata": {},
   "source": [
    "The  next step that I observed there is a duplicated unneccessary index column, that need to be droped. as shown the below code"
   ]
  },
  {
   "cell_type": "code",
   "execution_count": null,
   "metadata": {},
   "outputs": [],
   "source": [
    "# Drop unneccessary duplicated index value as a column lable\n",
    "df = df.drop(columns=[\"Unnamed: 0\"])"
   ]
  },
  {
   "cell_type": "markdown",
   "metadata": {},
   "source": [
    "Then ***Date*** columns is stored as ***Object*** datatype while it need to be converted/transformed to ***DateTime***"
   ]
  },
  {
   "cell_type": "code",
   "execution_count": null,
   "metadata": {},
   "outputs": [],
   "source": [
    "#transaform date that are stored as object to date-time data-type\n",
    "df[\"date\"] = pd.to_datetime(df[\"date\"], errors=\"coerce\")"
   ]
  },
  {
   "cell_type": "code",
   "execution_count": null,
   "metadata": {},
   "outputs": [
    {
     "data": {
      "text/plain": [
       "datetime64[ns, UTC-04:00]"
      ]
     },
     "execution_count": 10,
     "metadata": {},
     "output_type": "execute_result"
    }
   ],
   "source": [
    "#Check data type of date column after transaformation \n",
    "df[\"date\"].dtypes"
   ]
  },
  {
   "cell_type": "code",
   "execution_count": null,
   "metadata": {},
   "outputs": [
    {
     "data": {
      "text/html": [
       "<div>\n",
       "<style scoped>\n",
       "    .dataframe tbody tr th:only-of-type {\n",
       "        vertical-align: middle;\n",
       "    }\n",
       "\n",
       "    .dataframe tbody tr th {\n",
       "        vertical-align: top;\n",
       "    }\n",
       "\n",
       "    .dataframe thead th {\n",
       "        text-align: right;\n",
       "    }\n",
       "</style>\n",
       "<table border=\"1\" class=\"dataframe\">\n",
       "  <thead>\n",
       "    <tr style=\"text-align: right;\">\n",
       "      <th></th>\n",
       "      <th>headline</th>\n",
       "      <th>url</th>\n",
       "      <th>publisher</th>\n",
       "      <th>date</th>\n",
       "      <th>stock</th>\n",
       "    </tr>\n",
       "  </thead>\n",
       "  <tbody>\n",
       "    <tr>\n",
       "      <th>0</th>\n",
       "      <td>Stocks That Hit 52-Week Highs On Friday</td>\n",
       "      <td>https://www.benzinga.com/news/20/06/16190091/s...</td>\n",
       "      <td>Benzinga Insights</td>\n",
       "      <td>2020-06-05 10:30:54-04:00</td>\n",
       "      <td>A</td>\n",
       "    </tr>\n",
       "    <tr>\n",
       "      <th>1</th>\n",
       "      <td>Stocks That Hit 52-Week Highs On Wednesday</td>\n",
       "      <td>https://www.benzinga.com/news/20/06/16170189/s...</td>\n",
       "      <td>Benzinga Insights</td>\n",
       "      <td>2020-06-03 10:45:20-04:00</td>\n",
       "      <td>A</td>\n",
       "    </tr>\n",
       "    <tr>\n",
       "      <th>2</th>\n",
       "      <td>71 Biggest Movers From Friday</td>\n",
       "      <td>https://www.benzinga.com/news/20/05/16103463/7...</td>\n",
       "      <td>Lisa Levin</td>\n",
       "      <td>2020-05-26 04:30:07-04:00</td>\n",
       "      <td>A</td>\n",
       "    </tr>\n",
       "    <tr>\n",
       "      <th>3</th>\n",
       "      <td>46 Stocks Moving In Friday's Mid-Day Session</td>\n",
       "      <td>https://www.benzinga.com/news/20/05/16095921/4...</td>\n",
       "      <td>Lisa Levin</td>\n",
       "      <td>2020-05-22 12:45:06-04:00</td>\n",
       "      <td>A</td>\n",
       "    </tr>\n",
       "    <tr>\n",
       "      <th>4</th>\n",
       "      <td>B of A Securities Maintains Neutral on Agilent...</td>\n",
       "      <td>https://www.benzinga.com/news/20/05/16095304/b...</td>\n",
       "      <td>Vick Meyer</td>\n",
       "      <td>2020-05-22 11:38:59-04:00</td>\n",
       "      <td>A</td>\n",
       "    </tr>\n",
       "    <tr>\n",
       "      <th>...</th>\n",
       "      <td>...</td>\n",
       "      <td>...</td>\n",
       "      <td>...</td>\n",
       "      <td>...</td>\n",
       "      <td>...</td>\n",
       "    </tr>\n",
       "    <tr>\n",
       "      <th>1407266</th>\n",
       "      <td>Chinese Nano-Cap Momentum Stocks Sharply Highe...</td>\n",
       "      <td>https://www.benzinga.com/movers/18/01/10994518...</td>\n",
       "      <td>Paul Quintaro</td>\n",
       "      <td>2018-01-05 11:47:36-04:00</td>\n",
       "      <td>ZX</td>\n",
       "    </tr>\n",
       "    <tr>\n",
       "      <th>1407267</th>\n",
       "      <td>28 Stocks Moving In Wednesday's Pre-Market Ses...</td>\n",
       "      <td>https://www.benzinga.com/news/17/12/10878295/2...</td>\n",
       "      <td>Lisa Levin</td>\n",
       "      <td>2017-12-06 09:12:01-04:00</td>\n",
       "      <td>ZX</td>\n",
       "    </tr>\n",
       "    <tr>\n",
       "      <th>1407268</th>\n",
       "      <td>China Zenix Auto International Reports Q3 EPAD...</td>\n",
       "      <td>https://www.benzinga.com/news/earnings/17/12/1...</td>\n",
       "      <td>Paul Quintaro</td>\n",
       "      <td>2017-12-06 07:04:31-04:00</td>\n",
       "      <td>ZX</td>\n",
       "    </tr>\n",
       "    <tr>\n",
       "      <th>1407269</th>\n",
       "      <td>46 Biggest Movers From Yesterday</td>\n",
       "      <td>https://www.benzinga.com/news/17/11/10788120/4...</td>\n",
       "      <td>Lisa Levin</td>\n",
       "      <td>2017-11-15 06:04:52-04:00</td>\n",
       "      <td>ZX</td>\n",
       "    </tr>\n",
       "    <tr>\n",
       "      <th>1407270</th>\n",
       "      <td>42 Stocks Moving In Tuesday's Mid-Day Session</td>\n",
       "      <td>https://www.benzinga.com/news/17/11/10782008/4...</td>\n",
       "      <td>Lisa Levin</td>\n",
       "      <td>2017-11-14 13:25:57-04:00</td>\n",
       "      <td>ZX</td>\n",
       "    </tr>\n",
       "  </tbody>\n",
       "</table>\n",
       "<p>55987 rows × 5 columns</p>\n",
       "</div>"
      ],
      "text/plain": [
       "                                                  headline  \\\n",
       "0                  Stocks That Hit 52-Week Highs On Friday   \n",
       "1               Stocks That Hit 52-Week Highs On Wednesday   \n",
       "2                            71 Biggest Movers From Friday   \n",
       "3             46 Stocks Moving In Friday's Mid-Day Session   \n",
       "4        B of A Securities Maintains Neutral on Agilent...   \n",
       "...                                                    ...   \n",
       "1407266  Chinese Nano-Cap Momentum Stocks Sharply Highe...   \n",
       "1407267  28 Stocks Moving In Wednesday's Pre-Market Ses...   \n",
       "1407268  China Zenix Auto International Reports Q3 EPAD...   \n",
       "1407269                   46 Biggest Movers From Yesterday   \n",
       "1407270      42 Stocks Moving In Tuesday's Mid-Day Session   \n",
       "\n",
       "                                                       url          publisher  \\\n",
       "0        https://www.benzinga.com/news/20/06/16190091/s...  Benzinga Insights   \n",
       "1        https://www.benzinga.com/news/20/06/16170189/s...  Benzinga Insights   \n",
       "2        https://www.benzinga.com/news/20/05/16103463/7...         Lisa Levin   \n",
       "3        https://www.benzinga.com/news/20/05/16095921/4...         Lisa Levin   \n",
       "4        https://www.benzinga.com/news/20/05/16095304/b...         Vick Meyer   \n",
       "...                                                    ...                ...   \n",
       "1407266  https://www.benzinga.com/movers/18/01/10994518...      Paul Quintaro   \n",
       "1407267  https://www.benzinga.com/news/17/12/10878295/2...         Lisa Levin   \n",
       "1407268  https://www.benzinga.com/news/earnings/17/12/1...      Paul Quintaro   \n",
       "1407269  https://www.benzinga.com/news/17/11/10788120/4...         Lisa Levin   \n",
       "1407270  https://www.benzinga.com/news/17/11/10782008/4...         Lisa Levin   \n",
       "\n",
       "                             date stock  \n",
       "0       2020-06-05 10:30:54-04:00     A  \n",
       "1       2020-06-03 10:45:20-04:00     A  \n",
       "2       2020-05-26 04:30:07-04:00     A  \n",
       "3       2020-05-22 12:45:06-04:00     A  \n",
       "4       2020-05-22 11:38:59-04:00     A  \n",
       "...                           ...   ...  \n",
       "1407266 2018-01-05 11:47:36-04:00    ZX  \n",
       "1407267 2017-12-06 09:12:01-04:00    ZX  \n",
       "1407268 2017-12-06 07:04:31-04:00    ZX  \n",
       "1407269 2017-11-15 06:04:52-04:00    ZX  \n",
       "1407270 2017-11-14 13:25:57-04:00    ZX  \n",
       "\n",
       "[55987 rows x 5 columns]"
      ]
     },
     "execution_count": 14,
     "metadata": {},
     "output_type": "execute_result"
    }
   ],
   "source": [
    "#Check non-null values of a dataframe\n",
    "df[df['date'].notna()]"
   ]
  },
  {
   "cell_type": "code",
   "execution_count": 13,
   "metadata": {},
   "outputs": [],
   "source": [
    "#Drop invalid datetime value after coversion \n",
    "df = df[df['date'].notna()]"
   ]
  },
  {
   "cell_type": "code",
   "execution_count": 24,
   "metadata": {},
   "outputs": [],
   "source": [
    "# Transform headline or sentiment to lower case, remove numbers and special character\n",
    "df.loc[:,'headline'] = df['headline'].str.lower().apply(lambda x: re.sub(r'[^a-zA-Z\\s]', '', x))\n"
   ]
  },
  {
   "cell_type": "markdown",
   "metadata": {},
   "source": [
    "I also believe that ***url*** is not important for analysis, So I decieded to drop the ***url*** as a column label"
   ]
  },
  {
   "cell_type": "code",
   "execution_count": 25,
   "metadata": {},
   "outputs": [],
   "source": [
    "df = df.drop(columns=[\"url\"])"
   ]
  },
  {
   "cell_type": "code",
   "execution_count": 26,
   "metadata": {},
   "outputs": [
    {
     "data": {
      "text/html": [
       "<div>\n",
       "<style scoped>\n",
       "    .dataframe tbody tr th:only-of-type {\n",
       "        vertical-align: middle;\n",
       "    }\n",
       "\n",
       "    .dataframe tbody tr th {\n",
       "        vertical-align: top;\n",
       "    }\n",
       "\n",
       "    .dataframe thead th {\n",
       "        text-align: right;\n",
       "    }\n",
       "</style>\n",
       "<table border=\"1\" class=\"dataframe\">\n",
       "  <thead>\n",
       "    <tr style=\"text-align: right;\">\n",
       "      <th></th>\n",
       "      <th>headline</th>\n",
       "      <th>publisher</th>\n",
       "      <th>date</th>\n",
       "      <th>stock</th>\n",
       "    </tr>\n",
       "  </thead>\n",
       "  <tbody>\n",
       "    <tr>\n",
       "      <th>0</th>\n",
       "      <td>stocks that hit week highs on friday</td>\n",
       "      <td>Benzinga Insights</td>\n",
       "      <td>2020-06-05 10:30:54-04:00</td>\n",
       "      <td>A</td>\n",
       "    </tr>\n",
       "    <tr>\n",
       "      <th>1</th>\n",
       "      <td>stocks that hit week highs on wednesday</td>\n",
       "      <td>Benzinga Insights</td>\n",
       "      <td>2020-06-03 10:45:20-04:00</td>\n",
       "      <td>A</td>\n",
       "    </tr>\n",
       "    <tr>\n",
       "      <th>2</th>\n",
       "      <td>biggest movers from friday</td>\n",
       "      <td>Lisa Levin</td>\n",
       "      <td>2020-05-26 04:30:07-04:00</td>\n",
       "      <td>A</td>\n",
       "    </tr>\n",
       "    <tr>\n",
       "      <th>3</th>\n",
       "      <td>stocks moving in fridays midday session</td>\n",
       "      <td>Lisa Levin</td>\n",
       "      <td>2020-05-22 12:45:06-04:00</td>\n",
       "      <td>A</td>\n",
       "    </tr>\n",
       "    <tr>\n",
       "      <th>4</th>\n",
       "      <td>b of a securities maintains neutral on agilent...</td>\n",
       "      <td>Vick Meyer</td>\n",
       "      <td>2020-05-22 11:38:59-04:00</td>\n",
       "      <td>A</td>\n",
       "    </tr>\n",
       "  </tbody>\n",
       "</table>\n",
       "</div>"
      ],
      "text/plain": [
       "                                            headline          publisher  \\\n",
       "0               stocks that hit week highs on friday  Benzinga Insights   \n",
       "1            stocks that hit week highs on wednesday  Benzinga Insights   \n",
       "2                         biggest movers from friday         Lisa Levin   \n",
       "3            stocks moving in fridays midday session         Lisa Levin   \n",
       "4  b of a securities maintains neutral on agilent...         Vick Meyer   \n",
       "\n",
       "                       date stock  \n",
       "0 2020-06-05 10:30:54-04:00     A  \n",
       "1 2020-06-03 10:45:20-04:00     A  \n",
       "2 2020-05-26 04:30:07-04:00     A  \n",
       "3 2020-05-22 12:45:06-04:00     A  \n",
       "4 2020-05-22 11:38:59-04:00     A  "
      ]
     },
     "execution_count": 26,
     "metadata": {},
     "output_type": "execute_result"
    }
   ],
   "source": [
    "df.head()"
   ]
  },
  {
   "cell_type": "code",
   "execution_count": 32,
   "metadata": {},
   "outputs": [
    {
     "data": {
      "text/plain": [
       "publisher\n",
       "Benzinga Newsdesk    14750\n",
       "Lisa Levin           12408\n",
       "ETF Professor         4362\n",
       "Paul Quintaro         4212\n",
       "Benzinga Newsdesk     3177\n",
       "                     ...  \n",
       "Jennifer Lynn            1\n",
       "Tatro Capital            1\n",
       "webmaster                1\n",
       "Thomas Stein             1\n",
       "Usman Rafi               1\n",
       "Name: count, Length: 225, dtype: int64"
      ]
     },
     "execution_count": 32,
     "metadata": {},
     "output_type": "execute_result"
    }
   ],
   "source": [
    "# To check the unique values of 'publisher' column I can use either\n",
    "df[\"publisher\"].nunique()\n",
    "# or\n",
    "df['publisher'].value_counts()"
   ]
  },
  {
   "cell_type": "markdown",
   "metadata": {},
   "source": [
    "Here we have <span style = 'color:orange'>***255***</span> unique values"
   ]
  },
  {
   "cell_type": "code",
   "execution_count": 33,
   "metadata": {},
   "outputs": [
    {
     "data": {
      "text/plain": [
       "(55987, 4)"
      ]
     },
     "execution_count": 33,
     "metadata": {},
     "output_type": "execute_result"
    }
   ],
   "source": [
    "df.shape"
   ]
  },
  {
   "cell_type": "markdown",
   "metadata": {},
   "source": [
    "I have an options to use <span style = \"color:teal\">***one-hot-encoding***</span> for encoding but, in my case, since there are \n",
    "255 unique publishers among thetotal of 55987,this might lead to high dimensionality (many columns), which can be inefficient and hard to manage in machine learning models. Therefore, using <span style = \"color:teal\">***one-hot-encoding***</span> is inefficient"
   ]
  },
  {
   "cell_type": "markdown",
   "metadata": {},
   "source": [
    "Therefore, <span style = \"color:teal\">***Label Encoding***</span> recommended for large number of categories as like the data I have"
   ]
  },
  {
   "cell_type": "code",
   "execution_count": 35,
   "metadata": {},
   "outputs": [],
   "source": [
    "# Initialize the label encoder\n",
    "encoder = LabelEncoder()\n",
    "\n",
    "# Apply label encoding to the 'publisher' column\n",
    "df['publisher'] = encoder.fit_transform(df['publisher'])"
   ]
  },
  {
   "cell_type": "code",
   "execution_count": 36,
   "metadata": {},
   "outputs": [
    {
     "data": {
      "text/html": [
       "<div>\n",
       "<style scoped>\n",
       "    .dataframe tbody tr th:only-of-type {\n",
       "        vertical-align: middle;\n",
       "    }\n",
       "\n",
       "    .dataframe tbody tr th {\n",
       "        vertical-align: top;\n",
       "    }\n",
       "\n",
       "    .dataframe thead th {\n",
       "        text-align: right;\n",
       "    }\n",
       "</style>\n",
       "<table border=\"1\" class=\"dataframe\">\n",
       "  <thead>\n",
       "    <tr style=\"text-align: right;\">\n",
       "      <th></th>\n",
       "      <th>headline</th>\n",
       "      <th>publisher</th>\n",
       "      <th>date</th>\n",
       "      <th>stock</th>\n",
       "    </tr>\n",
       "  </thead>\n",
       "  <tbody>\n",
       "    <tr>\n",
       "      <th>0</th>\n",
       "      <td>stocks that hit week highs on friday</td>\n",
       "      <td>18</td>\n",
       "      <td>2020-06-05 10:30:54-04:00</td>\n",
       "      <td>A</td>\n",
       "    </tr>\n",
       "    <tr>\n",
       "      <th>1</th>\n",
       "      <td>stocks that hit week highs on wednesday</td>\n",
       "      <td>18</td>\n",
       "      <td>2020-06-03 10:45:20-04:00</td>\n",
       "      <td>A</td>\n",
       "    </tr>\n",
       "    <tr>\n",
       "      <th>2</th>\n",
       "      <td>biggest movers from friday</td>\n",
       "      <td>122</td>\n",
       "      <td>2020-05-26 04:30:07-04:00</td>\n",
       "      <td>A</td>\n",
       "    </tr>\n",
       "    <tr>\n",
       "      <th>3</th>\n",
       "      <td>stocks moving in fridays midday session</td>\n",
       "      <td>122</td>\n",
       "      <td>2020-05-22 12:45:06-04:00</td>\n",
       "      <td>A</td>\n",
       "    </tr>\n",
       "    <tr>\n",
       "      <th>4</th>\n",
       "      <td>b of a securities maintains neutral on agilent...</td>\n",
       "      <td>214</td>\n",
       "      <td>2020-05-22 11:38:59-04:00</td>\n",
       "      <td>A</td>\n",
       "    </tr>\n",
       "  </tbody>\n",
       "</table>\n",
       "</div>"
      ],
      "text/plain": [
       "                                            headline  publisher  \\\n",
       "0               stocks that hit week highs on friday         18   \n",
       "1            stocks that hit week highs on wednesday         18   \n",
       "2                         biggest movers from friday        122   \n",
       "3            stocks moving in fridays midday session        122   \n",
       "4  b of a securities maintains neutral on agilent...        214   \n",
       "\n",
       "                       date stock  \n",
       "0 2020-06-05 10:30:54-04:00     A  \n",
       "1 2020-06-03 10:45:20-04:00     A  \n",
       "2 2020-05-26 04:30:07-04:00     A  \n",
       "3 2020-05-22 12:45:06-04:00     A  \n",
       "4 2020-05-22 11:38:59-04:00     A  "
      ]
     },
     "execution_count": 36,
     "metadata": {},
     "output_type": "execute_result"
    }
   ],
   "source": [
    "df.head()"
   ]
  },
  {
   "cell_type": "code",
   "execution_count": null,
   "metadata": {},
   "outputs": [
    {
     "data": {
      "text/plain": [
       "stock\n",
       "ZX       10\n",
       "A        10\n",
       "AA       10\n",
       "AAC      10\n",
       "ZUMZ     10\n",
       "         ..\n",
       "ATMP      1\n",
       "ACCU      1\n",
       "ZMLP      1\n",
       "ZIONW     1\n",
       "SMLL      1\n",
       "Name: count, Length: 6204, dtype: int64"
      ]
     },
     "execution_count": 38,
     "metadata": {},
     "output_type": "execute_result"
    }
   ],
   "source": [
    "\n",
    "df['stock'].value_counts()"
   ]
  },
  {
   "cell_type": "code",
   "execution_count": 1,
   "metadata": {},
   "outputs": [
    {
     "ename": "NameError",
     "evalue": "name 'df' is not defined",
     "output_type": "error",
     "traceback": [
      "\u001b[1;31m---------------------------------------------------------------------------\u001b[0m",
      "\u001b[1;31mNameError\u001b[0m                                 Traceback (most recent call last)",
      "Cell \u001b[1;32mIn[1], line 1\u001b[0m\n\u001b[1;32m----> 1\u001b[0m \u001b[43mdf\u001b[49m\u001b[38;5;241m.\u001b[39mduplicated()\n",
      "\u001b[1;31mNameError\u001b[0m: name 'df' is not defined"
     ]
    }
   ],
   "source": [
    "df.duplicated()"
   ]
  },
  {
   "cell_type": "code",
   "execution_count": null,
   "metadata": {},
   "outputs": [],
   "source": [
    "df = df.drop_duplicates()"
   ]
  }
 ],
 "metadata": {
  "kernelspec": {
   "display_name": "Python 3",
   "language": "python",
   "name": "python3"
  },
  "language_info": {
   "codemirror_mode": {
    "name": "ipython",
    "version": 3
   },
   "file_extension": ".py",
   "mimetype": "text/x-python",
   "name": "python",
   "nbconvert_exporter": "python",
   "pygments_lexer": "ipython3",
   "version": "3.13.1"
  }
 },
 "nbformat": 4,
 "nbformat_minor": 2
}
