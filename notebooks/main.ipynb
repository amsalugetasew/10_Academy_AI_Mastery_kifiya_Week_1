{
 "cells": [
  {
   "cell_type": "code",
   "execution_count": 1,
   "metadata": {},
   "outputs": [
    {
     "name": "stderr",
     "output_type": "stream",
     "text": [
      "[nltk_data] Downloading package vader_lexicon to\n",
      "[nltk_data]     C:\\Users\\Admin\\AppData\\Roaming\\nltk_data...\n",
      "[nltk_data]   Package vader_lexicon is already up-to-date!\n"
     ]
    }
   ],
   "source": [
    "import re\n",
    "import pandas as pd\n",
    "import numpy as np\n",
    "import seaborn as sns\n",
    "import pynance as pn\n",
    "import matplotlib.pyplot as plt\n",
    "from pyti import simple_moving_average as sma\n",
    "from sklearn.preprocessing import LabelEncoder\n",
    "from vaderSentiment.vaderSentiment import SentimentIntensityAnalyzer\n",
    "\n",
    "# Add the scripts folder to the system path so we can import time_series.py\n",
    "import sys\n",
    "import os\n",
    "\n",
    "# for a folder that contain scripts for modularity \n",
    "sys.path.append(os.path.abspath('../scripts'))\n",
    "sys.path.append(os.path.abspath('../src'))     # For path.py\n",
    "# import scripts \n",
    "from EDA import EDA\n",
    "from insight import Insight\n",
    "from csv_loader import CSVLoader\n",
    "from time_series import TimeSeries\n",
    "from preprocessing import Preprocessing\n",
    "import path"
   ]
  },
  {
   "cell_type": "markdown",
   "metadata": {},
   "source": [
    "### Loading stock price time series data for seven companies then merging them in one dataframe "
   ]
  },
  {
   "cell_type": "code",
   "execution_count": 2,
   "metadata": {},
   "outputs": [
    {
     "data": {
      "text/html": [
       "<div>\n",
       "<style scoped>\n",
       "    .dataframe tbody tr th:only-of-type {\n",
       "        vertical-align: middle;\n",
       "    }\n",
       "\n",
       "    .dataframe tbody tr th {\n",
       "        vertical-align: top;\n",
       "    }\n",
       "\n",
       "    .dataframe thead th {\n",
       "        text-align: right;\n",
       "    }\n",
       "</style>\n",
       "<table border=\"1\" class=\"dataframe\">\n",
       "  <thead>\n",
       "    <tr style=\"text-align: right;\">\n",
       "      <th></th>\n",
       "      <th>Date</th>\n",
       "      <th>Open</th>\n",
       "      <th>High</th>\n",
       "      <th>Low</th>\n",
       "      <th>Close</th>\n",
       "      <th>Adj Close</th>\n",
       "      <th>Volume</th>\n",
       "      <th>Dividends</th>\n",
       "      <th>Stock Splits</th>\n",
       "      <th>company</th>\n",
       "    </tr>\n",
       "  </thead>\n",
       "  <tbody>\n",
       "    <tr>\n",
       "      <th>0</th>\n",
       "      <td>1980-12-12</td>\n",
       "      <td>0.128348</td>\n",
       "      <td>0.128906</td>\n",
       "      <td>0.128348</td>\n",
       "      <td>0.128348</td>\n",
       "      <td>0.098943</td>\n",
       "      <td>469033600</td>\n",
       "      <td>0.0</td>\n",
       "      <td>0.0</td>\n",
       "      <td>AAPL</td>\n",
       "    </tr>\n",
       "    <tr>\n",
       "      <th>1</th>\n",
       "      <td>1980-12-15</td>\n",
       "      <td>0.122210</td>\n",
       "      <td>0.122210</td>\n",
       "      <td>0.121652</td>\n",
       "      <td>0.121652</td>\n",
       "      <td>0.093781</td>\n",
       "      <td>175884800</td>\n",
       "      <td>0.0</td>\n",
       "      <td>0.0</td>\n",
       "      <td>AAPL</td>\n",
       "    </tr>\n",
       "    <tr>\n",
       "      <th>2</th>\n",
       "      <td>1980-12-16</td>\n",
       "      <td>0.113281</td>\n",
       "      <td>0.113281</td>\n",
       "      <td>0.112723</td>\n",
       "      <td>0.112723</td>\n",
       "      <td>0.086898</td>\n",
       "      <td>105728000</td>\n",
       "      <td>0.0</td>\n",
       "      <td>0.0</td>\n",
       "      <td>AAPL</td>\n",
       "    </tr>\n",
       "    <tr>\n",
       "      <th>3</th>\n",
       "      <td>1980-12-17</td>\n",
       "      <td>0.115513</td>\n",
       "      <td>0.116071</td>\n",
       "      <td>0.115513</td>\n",
       "      <td>0.115513</td>\n",
       "      <td>0.089049</td>\n",
       "      <td>86441600</td>\n",
       "      <td>0.0</td>\n",
       "      <td>0.0</td>\n",
       "      <td>AAPL</td>\n",
       "    </tr>\n",
       "    <tr>\n",
       "      <th>4</th>\n",
       "      <td>1980-12-18</td>\n",
       "      <td>0.118862</td>\n",
       "      <td>0.119420</td>\n",
       "      <td>0.118862</td>\n",
       "      <td>0.118862</td>\n",
       "      <td>0.091630</td>\n",
       "      <td>73449600</td>\n",
       "      <td>0.0</td>\n",
       "      <td>0.0</td>\n",
       "      <td>AAPL</td>\n",
       "    </tr>\n",
       "  </tbody>\n",
       "</table>\n",
       "</div>"
      ],
      "text/plain": [
       "         Date      Open      High       Low     Close  Adj Close     Volume  \\\n",
       "0  1980-12-12  0.128348  0.128906  0.128348  0.128348   0.098943  469033600   \n",
       "1  1980-12-15  0.122210  0.122210  0.121652  0.121652   0.093781  175884800   \n",
       "2  1980-12-16  0.113281  0.113281  0.112723  0.112723   0.086898  105728000   \n",
       "3  1980-12-17  0.115513  0.116071  0.115513  0.115513   0.089049   86441600   \n",
       "4  1980-12-18  0.118862  0.119420  0.118862  0.118862   0.091630   73449600   \n",
       "\n",
       "   Dividends  Stock Splits company  \n",
       "0        0.0           0.0    AAPL  \n",
       "1        0.0           0.0    AAPL  \n",
       "2        0.0           0.0    AAPL  \n",
       "3        0.0           0.0    AAPL  \n",
       "4        0.0           0.0    AAPL  "
      ]
     },
     "execution_count": 2,
     "metadata": {},
     "output_type": "execute_result"
    }
   ],
   "source": [
    "folder_path = path.get_path_price()\n",
    "\n",
    "# Create an instance of CSVLoader\n",
    "csv_loader = CSVLoader(folder_path)\n",
    "\n",
    "# Load CSV files\n",
    "csv_loader.load_csv_files()\n",
    "\n",
    "# Merge the loaded dataframes\n",
    "merged_df = csv_loader.merge_dataframes()\n",
    "\n",
    "# Display the first few rows\n",
    "merged_df.head() "
   ]
  },
  {
   "cell_type": "markdown",
   "metadata": {},
   "source": [
    "### Loading stock market news dataset for different companies "
   ]
  },
  {
   "cell_type": "code",
   "execution_count": null,
   "metadata": {},
   "outputs": [],
   "source": [
    "news = path.get_path_news()\n",
    "df = path.load_news_csv(news)\n",
    "df.head()"
   ]
  },
  {
   "cell_type": "code",
   "execution_count": 14,
   "metadata": {},
   "outputs": [],
   "source": [
    "# Step 2: Perform EDA for stock price\n",
    "eda_stock_price = EDA(merged_df)\n",
    "# Step 2: Perform EDA for stock price\n",
    "eda_stock_news = EDA(df)"
   ]
  },
  {
   "cell_type": "code",
   "execution_count": 15,
   "metadata": {},
   "outputs": [
    {
     "name": "stdout",
     "output_type": "stream",
     "text": [
      "Dataset Info:\n",
      "<class 'pandas.core.frame.DataFrame'>\n",
      "RangeIndex: 45428 entries, 0 to 45427\n",
      "Data columns (total 10 columns):\n",
      " #   Column        Non-Null Count  Dtype  \n",
      "---  ------        --------------  -----  \n",
      " 0   Date          45428 non-null  object \n",
      " 1   Open          45428 non-null  float64\n",
      " 2   High          45428 non-null  float64\n",
      " 3   Low           45428 non-null  float64\n",
      " 4   Close         45428 non-null  float64\n",
      " 5   Adj Close     45428 non-null  float64\n",
      " 6   Volume        45428 non-null  int64  \n",
      " 7   Dividends     45428 non-null  float64\n",
      " 8   Stock Splits  45428 non-null  float64\n",
      " 9   company       45428 non-null  object \n",
      "dtypes: float64(7), int64(1), object(2)\n",
      "memory usage: 3.5+ MB\n",
      "None\n",
      "\n",
      "Missing Values:\n",
      "Date            0\n",
      "Open            0\n",
      "High            0\n",
      "Low             0\n",
      "Close           0\n",
      "Adj Close       0\n",
      "Volume          0\n",
      "Dividends       0\n",
      "Stock Splits    0\n",
      "company         0\n",
      "dtype: int64\n",
      "\n",
      "Dataset Shape: (45428, 10)\n"
     ]
    }
   ],
   "source": [
    "# Display basic info for stock price\n",
    "eda_stock_price.display_basic_info()"
   ]
  },
  {
   "cell_type": "code",
   "execution_count": 16,
   "metadata": {},
   "outputs": [
    {
     "name": "stdout",
     "output_type": "stream",
     "text": [
      "Dataset Info:\n",
      "<class 'pandas.core.frame.DataFrame'>\n",
      "RangeIndex: 1407328 entries, 0 to 1407327\n",
      "Data columns (total 6 columns):\n",
      " #   Column      Non-Null Count    Dtype \n",
      "---  ------      --------------    ----- \n",
      " 0   Unnamed: 0  1407328 non-null  int64 \n",
      " 1   headline    1407328 non-null  object\n",
      " 2   url         1407328 non-null  object\n",
      " 3   publisher   1407328 non-null  object\n",
      " 4   date        1407328 non-null  object\n",
      " 5   stock       1407328 non-null  object\n",
      "dtypes: int64(1), object(5)\n",
      "memory usage: 64.4+ MB\n",
      "None\n",
      "\n",
      "Missing Values:\n",
      "Unnamed: 0    0\n",
      "headline      0\n",
      "url           0\n",
      "publisher     0\n",
      "date          0\n",
      "stock         0\n",
      "dtype: int64\n",
      "\n",
      "Dataset Shape: (1407328, 6)\n"
     ]
    }
   ],
   "source": [
    "# Display basic info for stock news\n",
    "eda_stock_news.display_basic_info()"
   ]
  },
  {
   "cell_type": "markdown",
   "metadata": {},
   "source": [
    "This dataset contains <span style=\"color:pink\">*1,407,328 rows*</span> and <span style=\"color:pink\">*6 columns*</span> with no missing values in any column. Here’s a quick analysis of its structure:\n",
    "\n",
    "### 1. Columns and Data Types:\n",
    "\n",
    "* <span style=\"color:orange\">***Unnamed: 0:***</span> Integer index column, <span style=\"color:red\">that uniquely identified the rows </span> likely unnecessary and can be dropped.<br>\n",
    "* <span style=\"color:orange\">***headline:***</span>  Text data (object), likely representing news headlines. <span style=\"color:teal\">*Sentement texts*</span><br>\n",
    "* <span style=\"color:orange\">***url:***</span>  Text data (object), contains links to the news articles.<br>\n",
    "* <span style=\"color:orange\">***publisher:***</span>  Text data (object), represents the source or publisher of the news.<br>\n",
    "* <span style=\"color:orange\">***date:***</span>  Text data (object), represents the date of the news, which can be converted to datetime for analysis.\n",
    "* <span style=\"color:orange\">***stock:***</span>  Text data (object), seems to represent stock identifiers or related information.\n",
    "### 2. Data Characteristics:\n",
    "\n",
    "* All columns are complete (non-null)<br>\n",
    "* Most columns are text-heavy (headline, url, publisher, stock) and may require preprocessing for further analysis, especially if this is used in NLP or stock market prediction tasks.<br>\n",
    "* The date column can be valuable for time-series analysis or trend studies.<br>\n",
    "### 3. What I planned to do in Next Steps as per the above two results are:\n",
    "\n",
    "* ***Clean the data***: Drop <span style=\"color:brown\">Unnamed: 0</span> if redundant.\n",
    "* ***Preprocess the text***: Tokenize or clean <span style=\"color:brown\">headline</span> and <span style=\"color:brown\">publisher</span> for NLP tasks.\n",
    "* ***Convert <span style=\"color:brown\">date</span> to datetime***: For temporal analysis.\n",
    "* ***Investigate <span style=\"color:brown\">stock</span>***: Understand its role—does it correspond to stock tickers or categories?"
   ]
  },
  {
   "cell_type": "markdown",
   "metadata": {},
   "source": [
    "# Preprocessing "
   ]
  },
  {
   "cell_type": "markdown",
   "metadata": {},
   "source": [
    "First and for most on preprocessing phase is checking missing values. The below code shows me there is no missing value as well the above information too. "
   ]
  },
  {
   "cell_type": "code",
   "execution_count": 17,
   "metadata": {},
   "outputs": [
    {
     "data": {
      "text/html": [
       "<div>\n",
       "<style scoped>\n",
       "    .dataframe tbody tr th:only-of-type {\n",
       "        vertical-align: middle;\n",
       "    }\n",
       "\n",
       "    .dataframe tbody tr th {\n",
       "        vertical-align: top;\n",
       "    }\n",
       "\n",
       "    .dataframe thead th {\n",
       "        text-align: right;\n",
       "    }\n",
       "</style>\n",
       "<table border=\"1\" class=\"dataframe\">\n",
       "  <thead>\n",
       "    <tr style=\"text-align: right;\">\n",
       "      <th></th>\n",
       "      <th>Unnamed: 0</th>\n",
       "      <th>headline</th>\n",
       "      <th>url</th>\n",
       "      <th>publisher</th>\n",
       "      <th>date</th>\n",
       "      <th>stock</th>\n",
       "    </tr>\n",
       "  </thead>\n",
       "  <tbody>\n",
       "  </tbody>\n",
       "</table>\n",
       "</div>"
      ],
      "text/plain": [
       "Empty DataFrame\n",
       "Columns: [Unnamed: 0, headline, url, publisher, date, stock]\n",
       "Index: []"
      ]
     },
     "execution_count": 17,
     "metadata": {},
     "output_type": "execute_result"
    }
   ],
   "source": [
    "df[df.isnull().any(axis=1) ]"
   ]
  },
  {
   "cell_type": "markdown",
   "metadata": {},
   "source": [
    "The  next step that I observed there is a duplicated unneccessary index column, that need to be droped. as shown the below code"
   ]
  },
  {
   "cell_type": "code",
   "execution_count": 18,
   "metadata": {},
   "outputs": [],
   "source": [
    "# Drop unneccessary duplicated index value as a column lable and \n",
    "# the url columns is just address that the data extracted, this data is irrilevant for analysis, drop it  \n",
    "df = df.drop(columns=[\"Unnamed: 0\", \"url\"])"
   ]
  },
  {
   "cell_type": "markdown",
   "metadata": {},
   "source": [
    "Then ***Date*** columns is stored as ***Object*** datatype while it need to be converted/transformed to ***DateTime***"
   ]
  },
  {
   "cell_type": "code",
   "execution_count": 19,
   "metadata": {},
   "outputs": [],
   "source": [
    "# Transform date to datetime (Parse) and sort dates\n",
    "eda_stock_news.parse_dates()"
   ]
  },
  {
   "cell_type": "code",
   "execution_count": 20,
   "metadata": {},
   "outputs": [
    {
     "name": "stdout",
     "output_type": "stream",
     "text": [
      "                                                  headline  sentiment\n",
      "879310                        How Treasuries and ETFs Work     0.2263\n",
      "519806       Update on the Luxury Sector: 2nd Quarter 2009     0.0000\n",
      "1390006      Update on the Luxury Sector: 2nd Quarter 2009     0.0000\n",
      "1432                                Going Against the Herd     0.0000\n",
      "67712    Charles Sizemore Radio Interview Saturday Morning     0.0000\n"
     ]
    }
   ],
   "source": [
    "# Calculate sentiment scores\n",
    "eda_stock_news.sentiment_score()"
   ]
  },
  {
   "cell_type": "code",
   "execution_count": 21,
   "metadata": {},
   "outputs": [],
   "source": [
    "# Step 3: Preprocess data\n",
    "preprocessor = Preprocessing(eda_stock_news.dataframe)"
   ]
  },
  {
   "cell_type": "markdown",
   "metadata": {},
   "source": [
    "### Obtain basic statistics for textual lengths (like headline length)."
   ]
  },
  {
   "cell_type": "code",
   "execution_count": null,
   "metadata": {},
   "outputs": [],
   "source": [
    "# Obtain headline length statistics\n",
    "preprocessor.headline_length_statistics()"
   ]
  },
  {
   "cell_type": "markdown",
   "metadata": {},
   "source": [
    "### Count the number of articles per publisher to identify which publishers are most active."
   ]
  },
  {
   "cell_type": "code",
   "execution_count": null,
   "metadata": {},
   "outputs": [],
   "source": [
    "# Count articles per publisher and visualize\n",
    "preprocessor.count_articles_per_publisher()"
   ]
  },
  {
   "cell_type": "markdown",
   "metadata": {},
   "source": [
    "### Analyze the publication dates to see trends over time, such as increased news frequency on particular days or during specific events."
   ]
  },
  {
   "cell_type": "code",
   "execution_count": null,
   "metadata": {},
   "outputs": [],
   "source": [
    "# Analyze publication dates and visualize trends\n",
    "preprocessor.analyze_publication_dates()"
   ]
  },
  {
   "cell_type": "code",
   "execution_count": 22,
   "metadata": {},
   "outputs": [
    {
     "data": {
      "image/png": "[encoded data removed]",
      "text/plain": [
       "<Figure size 640x480 with 1 Axes>"
      ]
     },
     "metadata": {},
     "output_type": "display_data"
    }
   ],
   "source": [
    "# Determine sentiment categories and visualize\n",
    "preprocessor.determine_sentiment_category()"
   ]
  },
  {
   "cell_type": "markdown",
   "metadata": {},
   "source": [
    "# Text Analysis(Sentiment analysis & Topic Modeling):\n",
    "* Perform sentiment analysis on headlines to gauge the sentiment (positive, negative, neutral) associated with the news.\n",
    "* Use natural language processing to identify common keywords or phrases, potentially extracting topics or significant events (like \"FDA approval\", \"price target\", etc.)."
   ]
  },
  {
   "cell_type": "code",
   "execution_count": null,
   "metadata": {},
   "outputs": [],
   "source": [
    "# Initialize the Insight class with your dataframe\n",
    "insight = Insight(df)\n",
    "\n",
    "# Perform sentiment analysis and visualize the results\n",
    "insight.sentiment_analysis()\n",
    "\n",
    "# Perform topic modeling and visualize the extracted topics\n",
    "insight.topic_modeling(num_topics=5, num_words=10)\n",
    "\n",
    "# Plot sentiment vs. topic distribution\n",
    "insight.plot_sentiment_vs_topic_distribution()"
   ]
  },
  {
   "cell_type": "code",
   "execution_count": null,
   "metadata": {},
   "outputs": [],
   "source": []
  },
  {
   "cell_type": "markdown",
   "metadata": {},
   "source": [
    "# Time Series Analysis:\n",
    "* How does the publication frequency vary over time? Are there spikes in article publications related to specific market events?\n",
    "* Analysis of publishing times might reveal if there’s a specific time when most news is released, which could be crucial for traders and automated trading systems."
   ]
  },
  {
   "cell_type": "code",
   "execution_count": null,
   "metadata": {},
   "outputs": [],
   "source": [
    "# Initialize the TimeSeries class with your dataframe\n",
    "time_series = TimeSeries(df)\n",
    "\n",
    "# Analyze publication frequency over time with daily frequency\n",
    "time_series.analyze_publication_frequency(time_unit='D')\n",
    "\n",
    "# Analyze publishing times (hour, day of week, and month)\n",
    "time_series.analyze_publishing_times()\n"
   ]
  },
  {
   "cell_type": "markdown",
   "metadata": {},
   "source": [
    "# Publisher Analysis:\n",
    "* Which publishers contribute most to the news feed? Is there a difference in the type of news they report?\n",
    "* If email addresses are used as publisher names, identify unique domains to see if certain organizations contribute more frequently."
   ]
  },
  {
   "cell_type": "markdown",
   "metadata": {},
   "source": [
    "# Analyze publishers contributing to the news feed\n",
    "time_series.analyze_publishers()"
   ]
  },
  {
   "cell_type": "code",
   "execution_count": null,
   "metadata": {},
   "outputs": [],
   "source": []
  },
  {
   "cell_type": "code",
   "execution_count": null,
   "metadata": {},
   "outputs": [],
   "source": [
    "# # Categorize and visualize sentiment\n",
    "# eda_stock_news.setement_category()"
   ]
  },
  {
   "cell_type": "code",
   "execution_count": null,
   "metadata": {},
   "outputs": [
    {
     "name": "stderr",
     "output_type": "stream",
     "text": [
      "c:\\Users\\Admin\\10_Academy_AI_Mastery_kifiya_Week_1\\EDA.py:61: FutureWarning: \n",
      "\n",
      "Passing `palette` without assigning `hue` is deprecated and will be removed in v0.14.0. Assign the `x` variable to `hue` and set `legend=False` for the same effect.\n",
      "\n",
      "  sns.countplot(data=self.dataframe, x='headline', palette='viridis')\n"
     ]
    }
   ],
   "source": [
    "# Plot sentiment distribution\n",
    "eda_stock_news.plot_sentiment_distribution()"
   ]
  },
  {
   "cell_type": "code",
   "execution_count": null,
   "metadata": {},
   "outputs": [],
   "source": [
    "# Visualize word counts\n",
    "eda_stock_news.visualize_word_counts()"
   ]
  },
  {
   "cell_type": "code",
   "execution_count": null,
   "metadata": {},
   "outputs": [],
   "source": [
    "# Plot correlation heatmap\n",
    "eda_stock_news.correlation_heatmap()"
   ]
  },
  {
   "cell_type": "code",
   "execution_count": null,
   "metadata": {},
   "outputs": [],
   "source": []
  },
  {
   "cell_type": "code",
   "execution_count": null,
   "metadata": {},
   "outputs": [],
   "source": []
  },
  {
   "cell_type": "code",
   "execution_count": null,
   "metadata": {},
   "outputs": [],
   "source": []
  },
  {
   "cell_type": "code",
   "execution_count": null,
   "metadata": {},
   "outputs": [],
   "source": []
  },
  {
   "cell_type": "code",
   "execution_count": null,
   "metadata": {},
   "outputs": [],
   "source": []
  },
  {
   "cell_type": "code",
   "execution_count": null,
   "metadata": {},
   "outputs": [],
   "source": []
  },
  {
   "cell_type": "code",
   "execution_count": null,
   "metadata": {},
   "outputs": [],
   "source": []
  },
  {
   "cell_type": "code",
   "execution_count": null,
   "metadata": {},
   "outputs": [],
   "source": []
  },
  {
   "cell_type": "markdown",
   "metadata": {},
   "source": [
    "Here the result shows me 55987 records are null values. Therefore, I need to drop those null values becuase there is no way to replace the date dataset "
   ]
  },
  {
   "cell_type": "code",
   "execution_count": 15,
   "metadata": {},
   "outputs": [],
   "source": [
    "#Drop invalid datetime value after coversion \n",
    "df = df[df['date'].notna()]"
   ]
  },
  {
   "cell_type": "code",
   "execution_count": 58,
   "metadata": {},
   "outputs": [],
   "source": [
    "# Step 4: Clean the 'headline' column\n",
    "def clean_text(text):\n",
    "    text = re.sub(r'[^a-zA-Z0-9\\s]', '', text)  # Remove special characters\n",
    "    text = text.lower()  # Convert to lowercase\n",
    "    return text\n",
    "\n",
    "df['headline'] = df['headline'].apply(clean_text)"
   ]
  },
  {
   "cell_type": "code",
   "execution_count": 59,
   "metadata": {},
   "outputs": [
    {
     "data": {
      "text/html": [
       "<div>\n",
       "<style scoped>\n",
       "    .dataframe tbody tr th:only-of-type {\n",
       "        vertical-align: middle;\n",
       "    }\n",
       "\n",
       "    .dataframe tbody tr th {\n",
       "        vertical-align: top;\n",
       "    }\n",
       "\n",
       "    .dataframe thead th {\n",
       "        text-align: right;\n",
       "    }\n",
       "</style>\n",
       "<table border=\"1\" class=\"dataframe\">\n",
       "  <thead>\n",
       "    <tr style=\"text-align: right;\">\n",
       "      <th></th>\n",
       "      <th>headline</th>\n",
       "      <th>sentiment</th>\n",
       "    </tr>\n",
       "  </thead>\n",
       "  <tbody>\n",
       "    <tr>\n",
       "      <th>879310</th>\n",
       "      <td>how treasuries and etfs work</td>\n",
       "      <td>0.2263</td>\n",
       "    </tr>\n",
       "    <tr>\n",
       "      <th>519806</th>\n",
       "      <td>update on the luxury sector 2nd quarter 2009</td>\n",
       "      <td>0.0000</td>\n",
       "    </tr>\n",
       "    <tr>\n",
       "      <th>1390006</th>\n",
       "      <td>update on the luxury sector 2nd quarter 2009</td>\n",
       "      <td>0.0000</td>\n",
       "    </tr>\n",
       "    <tr>\n",
       "      <th>1432</th>\n",
       "      <td>going against the herd</td>\n",
       "      <td>0.0000</td>\n",
       "    </tr>\n",
       "    <tr>\n",
       "      <th>67712</th>\n",
       "      <td>charles sizemore radio interview saturday morning</td>\n",
       "      <td>0.0000</td>\n",
       "    </tr>\n",
       "  </tbody>\n",
       "</table>\n",
       "</div>"
      ],
      "text/plain": [
       "                                                  headline  sentiment\n",
       "879310                        how treasuries and etfs work     0.2263\n",
       "519806        update on the luxury sector 2nd quarter 2009     0.0000\n",
       "1390006       update on the luxury sector 2nd quarter 2009     0.0000\n",
       "1432                                going against the herd     0.0000\n",
       "67712    charles sizemore radio interview saturday morning     0.0000"
      ]
     },
     "execution_count": 59,
     "metadata": {},
     "output_type": "execute_result"
    }
   ],
   "source": [
    "# Initialize sentiment analyzer\n",
    "analyzer = SentimentIntensityAnalyzer()\n",
    "\n",
    "# Calculate sentiment scores for the headlines\n",
    "def calculate_sentiment(text):\n",
    "    sentiment = analyzer.polarity_scores(text)\n",
    "    return sentiment['compound']  # Use the compound score\n",
    "\n",
    "df['sentiment'] = df['headline'].apply(calculate_sentiment)\n",
    "\n",
    "df[['headline', 'sentiment']].head()"
   ]
  },
  {
   "cell_type": "code",
   "execution_count": 60,
   "metadata": {},
   "outputs": [
    {
     "data": {
      "image/png": "[encoded data removed]",
      "text/plain": [
       "<Figure size 640x480 with 1 Axes>"
      ]
     },
     "metadata": {},
     "output_type": "display_data"
    }
   ],
   "source": [
    "# Plot the distribution of compound scores\n",
    "plt.hist(df['sentiment'], bins=50, color='blue', edgecolor='black')\n",
    "plt.title(\"Distribution of Sentiment Scores\")\n",
    "plt.xlabel(\"Compound Score\")\n",
    "plt.ylabel(\"Frequency\")\n",
    "plt.show()"
   ]
  },
  {
   "cell_type": "code",
   "execution_count": 101,
   "metadata": {},
   "outputs": [
    {
     "name": "stderr",
     "output_type": "stream",
     "text": [
      "C:\\Users\\Admin\\AppData\\Local\\Temp\\ipykernel_9616\\199743984.py:1: SettingWithCopyWarning: \n",
      "A value is trying to be set on a copy of a slice from a DataFrame.\n",
      "Try using .loc[row_indexer,col_indexer] = value instead\n",
      "\n",
      "See the caveats in the documentation: https://pandas.pydata.org/pandas-docs/stable/user_guide/indexing.html#returning-a-view-versus-a-copy\n",
      "  df['sentiment_category'] = df['sentiment'].apply(\n"
     ]
    },
    {
     "data": {
      "image/png": "[encoded data removed]",
      "text/plain": [
       "<Figure size 640x480 with 1 Axes>"
      ]
     },
     "metadata": {},
     "output_type": "display_data"
    }
   ],
   "source": [
    "df['sentiment_category'] = df['sentiment'].apply(\n",
    "    lambda x: 'positive' if x > -0.1 else 'negative' if x < -0.1 else 'neutral'\n",
    ")\n",
    "\n",
    "sentiment_counts = df['sentiment_category'].value_counts(normalize=True)\n",
    "sentiment_counts.plot(kind='bar', color=['green', 'grey', 'red'])\n",
    "plt.title(\"Proportion of Sentiment Categories\")\n",
    "plt.ylabel(\"Percentage\")\n",
    "plt.xlabel(\"Sentiment\")\n",
    "plt.show()\n"
   ]
  },
  {
   "cell_type": "code",
   "execution_count": 85,
   "metadata": {},
   "outputs": [],
   "source": [
    "# df['stock_change'] = df['stock'].diff()\n",
    "\n",
    "# plt.scatter(df['sentiment'], df['stock_change'], alpha=0.5)\n",
    "# plt.title(\"Sentiment vs. Stock Change\")\n",
    "# plt.xlabel(\"Compound Sentiment Score\")\n",
    "# plt.ylabel(\"Stock Change\")\n",
    "# plt.axhline(0, color='red', linestyle='dashed')\n",
    "# plt.show()\n"
   ]
  },
  {
   "cell_type": "code",
   "execution_count": 102,
   "metadata": {},
   "outputs": [
    {
     "data": {
      "text/plain": [
       "<Axes: xlabel='sentiment_category', ylabel='sentiment'>"
      ]
     },
     "execution_count": 102,
     "metadata": {},
     "output_type": "execute_result"
    },
    {
     "data": {
      "image/png": "[encoded data removed]",
      "text/plain": [
       "<Figure size 640x480 with 1 Axes>"
      ]
     },
     "metadata": {},
     "output_type": "display_data"
    }
   ],
   "source": [
    "sns.boxplot(x='sentiment_category', y='sentiment', data=df)\n"
   ]
  },
  {
   "cell_type": "code",
   "execution_count": 100,
   "metadata": {},
   "outputs": [
    {
     "data": {
      "text/html": [
       "<div>\n",
       "<style scoped>\n",
       "    .dataframe tbody tr th:only-of-type {\n",
       "        vertical-align: middle;\n",
       "    }\n",
       "\n",
       "    .dataframe tbody tr th {\n",
       "        vertical-align: top;\n",
       "    }\n",
       "\n",
       "    .dataframe thead th {\n",
       "        text-align: right;\n",
       "    }\n",
       "</style>\n",
       "<table border=\"1\" class=\"dataframe\">\n",
       "  <thead>\n",
       "    <tr style=\"text-align: right;\">\n",
       "      <th></th>\n",
       "      <th>headline</th>\n",
       "      <th>publisher</th>\n",
       "      <th>date</th>\n",
       "      <th>stock</th>\n",
       "      <th>sentiment</th>\n",
       "      <th>sentiment_category</th>\n",
       "    </tr>\n",
       "  </thead>\n",
       "  <tbody>\n",
       "    <tr>\n",
       "      <th>6680</th>\n",
       "      <td>tech stocks and faangs strong again to start d...</td>\n",
       "      <td>JJ Kinahan</td>\n",
       "      <td>2020-06-10 15:33:26+00:00</td>\n",
       "      <td>AAPL</td>\n",
       "      <td>0.5574</td>\n",
       "      <td>positive</td>\n",
       "    </tr>\n",
       "    <tr>\n",
       "      <th>76178</th>\n",
       "      <td>tech stocks and faangs strong again to start d...</td>\n",
       "      <td>JJ Kinahan</td>\n",
       "      <td>2020-06-10 15:33:26+00:00</td>\n",
       "      <td>AMZN</td>\n",
       "      <td>0.5574</td>\n",
       "      <td>positive</td>\n",
       "    </tr>\n",
       "    <tr>\n",
       "      <th>924272</th>\n",
       "      <td>afternoon market stats in 5 minutes</td>\n",
       "      <td>Benzinga Insights</td>\n",
       "      <td>2020-06-10 16:12:25+00:00</td>\n",
       "      <td>NVDA</td>\n",
       "      <td>0.0000</td>\n",
       "      <td>neutral</td>\n",
       "    </tr>\n",
       "    <tr>\n",
       "      <th>924271</th>\n",
       "      <td>shares of several technology companies are tra...</td>\n",
       "      <td>Benzinga Newsdesk</td>\n",
       "      <td>2020-06-10 16:37:10+00:00</td>\n",
       "      <td>NVDA</td>\n",
       "      <td>0.7296</td>\n",
       "      <td>positive</td>\n",
       "    </tr>\n",
       "    <tr>\n",
       "      <th>1255223</th>\n",
       "      <td>tesla hacker unlocks performance upgrade and a...</td>\n",
       "      <td>Benzinga Newsdesk</td>\n",
       "      <td>2020-06-10 16:41:58+00:00</td>\n",
       "      <td>TSLA</td>\n",
       "      <td>0.4019</td>\n",
       "      <td>positive</td>\n",
       "    </tr>\n",
       "    <tr>\n",
       "      <th>565381</th>\n",
       "      <td>how cannabis company cannaphyll is marketing o...</td>\n",
       "      <td>Jaycee Tenn</td>\n",
       "      <td>2020-06-10 17:18:50+00:00</td>\n",
       "      <td>GOOG</td>\n",
       "      <td>0.1779</td>\n",
       "      <td>positive</td>\n",
       "    </tr>\n",
       "    <tr>\n",
       "      <th>76177</th>\n",
       "      <td>how cannabis company cannaphyll is marketing o...</td>\n",
       "      <td>Jaycee Tenn</td>\n",
       "      <td>2020-06-10 17:18:50+00:00</td>\n",
       "      <td>AMZN</td>\n",
       "      <td>0.1779</td>\n",
       "      <td>positive</td>\n",
       "    </tr>\n",
       "    <tr>\n",
       "      <th>1255222</th>\n",
       "      <td>tesla factory workplace safety is 5 better tha...</td>\n",
       "      <td>Benzinga Newsdesk</td>\n",
       "      <td>2020-06-10 19:08:09+00:00</td>\n",
       "      <td>TSLA</td>\n",
       "      <td>0.8176</td>\n",
       "      <td>positive</td>\n",
       "    </tr>\n",
       "    <tr>\n",
       "      <th>565380</th>\n",
       "      <td>facebook snap analyst projects q2 revenue upsi...</td>\n",
       "      <td>Shanthi Rexaline</td>\n",
       "      <td>2020-06-10 19:25:13+00:00</td>\n",
       "      <td>GOOG</td>\n",
       "      <td>0.0000</td>\n",
       "      <td>neutral</td>\n",
       "    </tr>\n",
       "    <tr>\n",
       "      <th>1255221</th>\n",
       "      <td>teslas stock closes at alltime high as musk pu...</td>\n",
       "      <td>Drew Levine</td>\n",
       "      <td>2020-06-10 21:02:47+00:00</td>\n",
       "      <td>TSLA</td>\n",
       "      <td>0.5574</td>\n",
       "      <td>positive</td>\n",
       "    </tr>\n",
       "  </tbody>\n",
       "</table>\n",
       "</div>"
      ],
      "text/plain": [
       "                                                  headline          publisher  \\\n",
       "6680     tech stocks and faangs strong again to start d...         JJ Kinahan   \n",
       "76178    tech stocks and faangs strong again to start d...         JJ Kinahan   \n",
       "924272                 afternoon market stats in 5 minutes  Benzinga Insights   \n",
       "924271   shares of several technology companies are tra...  Benzinga Newsdesk   \n",
       "1255223  tesla hacker unlocks performance upgrade and a...  Benzinga Newsdesk   \n",
       "565381   how cannabis company cannaphyll is marketing o...        Jaycee Tenn   \n",
       "76177    how cannabis company cannaphyll is marketing o...        Jaycee Tenn   \n",
       "1255222  tesla factory workplace safety is 5 better tha...  Benzinga Newsdesk   \n",
       "565380   facebook snap analyst projects q2 revenue upsi...   Shanthi Rexaline   \n",
       "1255221  teslas stock closes at alltime high as musk pu...        Drew Levine   \n",
       "\n",
       "                             date stock  sentiment sentiment_category  \n",
       "6680    2020-06-10 15:33:26+00:00  AAPL     0.5574           positive  \n",
       "76178   2020-06-10 15:33:26+00:00  AMZN     0.5574           positive  \n",
       "924272  2020-06-10 16:12:25+00:00  NVDA     0.0000            neutral  \n",
       "924271  2020-06-10 16:37:10+00:00  NVDA     0.7296           positive  \n",
       "1255223 2020-06-10 16:41:58+00:00  TSLA     0.4019           positive  \n",
       "565381  2020-06-10 17:18:50+00:00  GOOG     0.1779           positive  \n",
       "76177   2020-06-10 17:18:50+00:00  AMZN     0.1779           positive  \n",
       "1255222 2020-06-10 19:08:09+00:00  TSLA     0.8176           positive  \n",
       "565380  2020-06-10 19:25:13+00:00  GOOG     0.0000            neutral  \n",
       "1255221 2020-06-10 21:02:47+00:00  TSLA     0.5574           positive  "
      ]
     },
     "execution_count": 100,
     "metadata": {},
     "output_type": "execute_result"
    }
   ],
   "source": [
    "df.tail(10)"
   ]
  },
  {
   "cell_type": "code",
   "execution_count": 104,
   "metadata": {},
   "outputs": [
    {
     "data": {
      "text/html": [
       "<div>\n",
       "<style scoped>\n",
       "    .dataframe tbody tr th:only-of-type {\n",
       "        vertical-align: middle;\n",
       "    }\n",
       "\n",
       "    .dataframe tbody tr th {\n",
       "        vertical-align: top;\n",
       "    }\n",
       "\n",
       "    .dataframe thead th {\n",
       "        text-align: right;\n",
       "    }\n",
       "</style>\n",
       "<table border=\"1\" class=\"dataframe\">\n",
       "  <thead>\n",
       "    <tr style=\"text-align: right;\">\n",
       "      <th></th>\n",
       "      <th>headline</th>\n",
       "      <th>publisher</th>\n",
       "      <th>date</th>\n",
       "      <th>stock</th>\n",
       "      <th>sentiment</th>\n",
       "      <th>sentiment_category</th>\n",
       "    </tr>\n",
       "  </thead>\n",
       "  <tbody>\n",
       "    <tr>\n",
       "      <th>0</th>\n",
       "      <td>nvidia goes negative nvda</td>\n",
       "      <td>Scott Rubin</td>\n",
       "      <td>2011-03-03 00:00:00+00:00</td>\n",
       "      <td>NVDA</td>\n",
       "      <td>-0.5719</td>\n",
       "      <td>negative</td>\n",
       "    </tr>\n",
       "    <tr>\n",
       "      <th>1</th>\n",
       "      <td>auriga still not sure where reality lies for n...</td>\n",
       "      <td>BenzingaStaffB</td>\n",
       "      <td>2011-03-07 00:00:00+00:00</td>\n",
       "      <td>NVDA</td>\n",
       "      <td>-0.5806</td>\n",
       "      <td>negative</td>\n",
       "    </tr>\n",
       "    <tr>\n",
       "      <th>2</th>\n",
       "      <td>goldman sachs gives color on semiconductors nv...</td>\n",
       "      <td>Benzinga Staff</td>\n",
       "      <td>2011-03-07 00:00:00+00:00</td>\n",
       "      <td>NVDA</td>\n",
       "      <td>0.0000</td>\n",
       "      <td>positive</td>\n",
       "    </tr>\n",
       "    <tr>\n",
       "      <th>3</th>\n",
       "      <td>jp morgan upgrades nvidia corporation to neutr...</td>\n",
       "      <td>Mark Page</td>\n",
       "      <td>2011-03-08 00:00:00+00:00</td>\n",
       "      <td>NVDA</td>\n",
       "      <td>0.2023</td>\n",
       "      <td>positive</td>\n",
       "    </tr>\n",
       "    <tr>\n",
       "      <th>4</th>\n",
       "      <td>jp morgan upgrades nvidia to neutral 21 pt</td>\n",
       "      <td>Joe Young</td>\n",
       "      <td>2011-03-08 00:00:00+00:00</td>\n",
       "      <td>NVDA</td>\n",
       "      <td>0.2023</td>\n",
       "      <td>positive</td>\n",
       "    </tr>\n",
       "  </tbody>\n",
       "</table>\n",
       "</div>"
      ],
      "text/plain": [
       "                                            headline       publisher  \\\n",
       "0                          nvidia goes negative nvda     Scott Rubin   \n",
       "1  auriga still not sure where reality lies for n...  BenzingaStaffB   \n",
       "2  goldman sachs gives color on semiconductors nv...  Benzinga Staff   \n",
       "3  jp morgan upgrades nvidia corporation to neutr...       Mark Page   \n",
       "4         jp morgan upgrades nvidia to neutral 21 pt       Joe Young   \n",
       "\n",
       "                        date stock  sentiment sentiment_category  \n",
       "0  2011-03-03 00:00:00+00:00  NVDA    -0.5719           negative  \n",
       "1  2011-03-07 00:00:00+00:00  NVDA    -0.5806           negative  \n",
       "2  2011-03-07 00:00:00+00:00  NVDA     0.0000           positive  \n",
       "3  2011-03-08 00:00:00+00:00  NVDA     0.2023           positive  \n",
       "4  2011-03-08 00:00:00+00:00  NVDA     0.2023           positive  "
      ]
     },
     "execution_count": 104,
     "metadata": {},
     "output_type": "execute_result"
    }
   ],
   "source": [
    "df.to_csv('../Week1_data/sentiment_headlines.csv', index=False)\n",
    "my_sentiment = pd.read_csv('../Week1_data/sentiment_headlines.csv')\n",
    "my_sentiment.head()\n"
   ]
  },
  {
   "cell_type": "code",
   "execution_count": 105,
   "metadata": {},
   "outputs": [
    {
     "name": "stderr",
     "output_type": "stream",
     "text": [
      "C:\\Users\\Admin\\AppData\\Local\\Temp\\ipykernel_9616\\3461558374.py:1: SettingWithCopyWarning: \n",
      "A value is trying to be set on a copy of a slice from a DataFrame.\n",
      "Try using .loc[row_indexer,col_indexer] = value instead\n",
      "\n",
      "See the caveats in the documentation: https://pandas.pydata.org/pandas-docs/stable/user_guide/indexing.html#returning-a-view-versus-a-copy\n",
      "  df['date'] = pd.to_datetime(df['date'])\n"
     ]
    },
    {
     "data": {
      "image/png": "[encoded data removed]",
      "text/plain": [
       "<Figure size 640x480 with 1 Axes>"
      ]
     },
     "metadata": {},
     "output_type": "display_data"
    }
   ],
   "source": [
    "df['date'] = pd.to_datetime(df['date'])\n",
    "df = df.set_index('date')\n",
    "df['rolling_sentiment'] = df['sentiment'].rolling(window=7).mean()\n",
    "\n",
    "df['rolling_sentiment'].plot(title=\"Rolling Average of Sentiment Scores\")\n",
    "plt.axhline(0, color='red', linestyle='dashed')\n",
    "plt.show()\n"
   ]
  },
  {
   "cell_type": "code",
   "execution_count": 106,
   "metadata": {},
   "outputs": [
    {
     "data": {
      "image/png": "[encoded data removed]",
      "text/plain": [
       "<Figure size 640x480 with 1 Axes>"
      ]
     },
     "metadata": {},
     "output_type": "display_data"
    }
   ],
   "source": [
    "from sklearn.cluster import KMeans\n",
    "\n",
    "scores = df['sentiment'].values.reshape(-1, 1)\n",
    "kmeans = KMeans(n_clusters=3, random_state=0).fit(scores)\n",
    "df['sentiment_cluster'] = kmeans.labels_\n",
    "\n",
    "# Visualize clusters\n",
    "plt.scatter(df.index, df['sentiment'], c=df['sentiment_cluster'], cmap='viridis', alpha=0.5)\n",
    "plt.title(\"K-Means Clustering of Sentiment Scores\")\n",
    "plt.xlabel(\"Index\")\n",
    "plt.ylabel(\"Compound Score\")\n",
    "plt.show()\n"
   ]
  },
  {
   "cell_type": "code",
   "execution_count": null,
   "metadata": {},
   "outputs": [],
   "source": []
  },
  {
   "cell_type": "code",
   "execution_count": null,
   "metadata": {},
   "outputs": [],
   "source": []
  },
  {
   "cell_type": "code",
   "execution_count": 70,
   "metadata": {},
   "outputs": [
    {
     "name": "stdout",
     "output_type": "stream",
     "text": [
      "Threshold: -0.2\n",
      "sentiment_category\n",
      "positive    0.876731\n",
      "negative    0.123269\n",
      "Name: proportion, dtype: float64\n",
      "Threshold: -0.1\n",
      "sentiment_category\n",
      "positive    0.842659\n",
      "negative    0.157341\n",
      "Name: proportion, dtype: float64\n",
      "Threshold: 0.0\n",
      "sentiment_category\n",
      "neutral     0.515831\n",
      "positive    0.320553\n",
      "negative    0.163616\n",
      "Name: proportion, dtype: float64\n",
      "Threshold: 0.1\n",
      "sentiment_category\n",
      "neutral     0.531219\n",
      "positive    0.311441\n",
      "negative    0.157341\n",
      "Name: proportion, dtype: float64\n",
      "Threshold: 0.2\n",
      "sentiment_category\n",
      "neutral     0.584278\n",
      "positive    0.292453\n",
      "negative    0.123269\n",
      "Name: proportion, dtype: float64\n"
     ]
    }
   ],
   "source": [
    "thresholds = [-0.2, -0.1, 0.0, 0.1, 0.2]\n",
    "for threshold in thresholds:\n",
    "    df['sentiment_category'] = df['sentiment'].apply(\n",
    "        lambda x: 'positive' if x > threshold else 'negative' if x < -threshold else 'neutral'\n",
    "    )\n",
    "    print(f\"Threshold: {threshold}\")\n",
    "    print(df['sentiment_category'].value_counts(normalize=True))\n"
   ]
  },
  {
   "cell_type": "code",
   "execution_count": 79,
   "metadata": {},
   "outputs": [
    {
     "name": "stderr",
     "output_type": "stream",
     "text": [
      "C:\\Users\\Admin\\AppData\\Local\\Temp\\ipykernel_9616\\1658713762.py:10: SettingWithCopyWarning: \n",
      "A value is trying to be set on a copy of a slice from a DataFrame.\n",
      "Try using .loc[row_indexer,col_indexer] = value instead\n",
      "\n",
      "See the caveats in the documentation: https://pandas.pydata.org/pandas-docs/stable/user_guide/indexing.html#returning-a-view-versus-a-copy\n",
      "  df['sentiment_category'] = df['sentiment'].apply(\n",
      "C:\\Users\\Admin\\AppData\\Local\\Temp\\ipykernel_9616\\1658713762.py:10: SettingWithCopyWarning: \n",
      "A value is trying to be set on a copy of a slice from a DataFrame.\n",
      "Try using .loc[row_indexer,col_indexer] = value instead\n",
      "\n",
      "See the caveats in the documentation: https://pandas.pydata.org/pandas-docs/stable/user_guide/indexing.html#returning-a-view-versus-a-copy\n",
      "  df['sentiment_category'] = df['sentiment'].apply(\n",
      "C:\\Users\\Admin\\AppData\\Local\\Temp\\ipykernel_9616\\1658713762.py:10: SettingWithCopyWarning: \n",
      "A value is trying to be set on a copy of a slice from a DataFrame.\n",
      "Try using .loc[row_indexer,col_indexer] = value instead\n",
      "\n",
      "See the caveats in the documentation: https://pandas.pydata.org/pandas-docs/stable/user_guide/indexing.html#returning-a-view-versus-a-copy\n",
      "  df['sentiment_category'] = df['sentiment'].apply(\n",
      "C:\\Users\\Admin\\AppData\\Local\\Temp\\ipykernel_9616\\1658713762.py:10: SettingWithCopyWarning: \n",
      "A value is trying to be set on a copy of a slice from a DataFrame.\n",
      "Try using .loc[row_indexer,col_indexer] = value instead\n",
      "\n",
      "See the caveats in the documentation: https://pandas.pydata.org/pandas-docs/stable/user_guide/indexing.html#returning-a-view-versus-a-copy\n",
      "  df['sentiment_category'] = df['sentiment'].apply(\n",
      "C:\\Users\\Admin\\AppData\\Local\\Temp\\ipykernel_9616\\1658713762.py:10: SettingWithCopyWarning: \n",
      "A value is trying to be set on a copy of a slice from a DataFrame.\n",
      "Try using .loc[row_indexer,col_indexer] = value instead\n",
      "\n",
      "See the caveats in the documentation: https://pandas.pydata.org/pandas-docs/stable/user_guide/indexing.html#returning-a-view-versus-a-copy\n",
      "  df['sentiment_category'] = df['sentiment'].apply(\n"
     ]
    },
    {
     "data": {
      "text/plain": [
       "<Axes: xlabel='Threshold', ylabel='value'>"
      ]
     },
     "execution_count": 79,
     "metadata": {},
     "output_type": "execute_result"
    },
    {
     "data": {
      "image/png": "[encoded data removed]",
      "text/plain": [
       "<Figure size 640x480 with 1 Axes>"
      ]
     },
     "metadata": {},
     "output_type": "display_data"
    }
   ],
   "source": [
    "thresholds = [-0.2, -0.1, 0.0, 0.1, 0.2]\n",
    "proportions = {\n",
    "    'Threshold': [],\n",
    "    'Positive': [],\n",
    "    'Neutral': [],\n",
    "    'Negative': []\n",
    "}\n",
    "\n",
    "for threshold in thresholds:\n",
    "    df['sentiment_category'] = df['sentiment'].apply(\n",
    "        lambda x: 'positive' if x > threshold else 'negative' if x < -threshold else 'neutral'\n",
    "    )\n",
    "    sentiment_counts = df['sentiment_category'].value_counts(normalize=True)\n",
    "    proportions['Threshold'].append(threshold)\n",
    "    proportions['Positive'].append(sentiment_counts.get('positive', 0))\n",
    "    proportions['Neutral'].append(sentiment_counts.get('neutral', 0))\n",
    "    proportions['Negative'].append(sentiment_counts.get('negative', 0))\n",
    "\n",
    "sns.lineplot(x='Threshold', y='value', hue='variable',\n",
    "             data=pd.melt(pd.DataFrame(proportions), id_vars=['Threshold']))\n"
   ]
  },
  {
   "cell_type": "code",
   "execution_count": null,
   "metadata": {},
   "outputs": [],
   "source": []
  },
  {
   "cell_type": "code",
   "execution_count": null,
   "metadata": {},
   "outputs": [],
   "source": []
  },
  {
   "cell_type": "code",
   "execution_count": null,
   "metadata": {},
   "outputs": [],
   "source": []
  },
  {
   "cell_type": "code",
   "execution_count": 117,
   "metadata": {},
   "outputs": [],
   "source": [
    "# Step 5: Encode categorical variables\n",
    "label_encoder = LabelEncoder()\n",
    "df['publisher_encoded'] = label_encoder.fit_transform(df['publisher'])\n",
    "df['stock_encoded'] = label_encoder.fit_transform(df['stock'])"
   ]
  },
  {
   "cell_type": "code",
   "execution_count": 119,
   "metadata": {},
   "outputs": [],
   "source": [
    "# Step 6: Extract time-based features\n",
    "df['year'] = df['date'].dt.year\n",
    "df['month'] = df['date'].dt.month\n",
    "df['day'] = df['date'].dt.day\n",
    "df['day_of_week'] = df['date'].dt.dayofweek"
   ]
  },
  {
   "cell_type": "code",
   "execution_count": 18,
   "metadata": {},
   "outputs": [
    {
     "data": {
      "text/html": [
       "<div>\n",
       "<style scoped>\n",
       "    .dataframe tbody tr th:only-of-type {\n",
       "        vertical-align: middle;\n",
       "    }\n",
       "\n",
       "    .dataframe tbody tr th {\n",
       "        vertical-align: top;\n",
       "    }\n",
       "\n",
       "    .dataframe thead th {\n",
       "        text-align: right;\n",
       "    }\n",
       "</style>\n",
       "<table border=\"1\" class=\"dataframe\">\n",
       "  <thead>\n",
       "    <tr style=\"text-align: right;\">\n",
       "      <th></th>\n",
       "      <th>headline</th>\n",
       "      <th>publisher</th>\n",
       "      <th>date</th>\n",
       "      <th>stock</th>\n",
       "    </tr>\n",
       "  </thead>\n",
       "  <tbody>\n",
       "    <tr>\n",
       "      <th>879310</th>\n",
       "      <td>how treasuries and etfs work</td>\n",
       "      <td>Paco Ahlgren</td>\n",
       "      <td>2009-02-14 00:00:00+00:00</td>\n",
       "      <td>NAV</td>\n",
       "    </tr>\n",
       "    <tr>\n",
       "      <th>519806</th>\n",
       "      <td>update on the luxury sector 2nd quarter 2009</td>\n",
       "      <td>Charles Lewis Sizemore CFA</td>\n",
       "      <td>2009-04-27 00:00:00+00:00</td>\n",
       "      <td>FT</td>\n",
       "    </tr>\n",
       "    <tr>\n",
       "      <th>1390006</th>\n",
       "      <td>update on the luxury sector 2nd quarter 2009</td>\n",
       "      <td>Charles Lewis Sizemore CFA</td>\n",
       "      <td>2009-04-27 00:00:00+00:00</td>\n",
       "      <td>Y</td>\n",
       "    </tr>\n",
       "    <tr>\n",
       "      <th>1432</th>\n",
       "      <td>going against the herd</td>\n",
       "      <td>Charles Lewis Sizemore CFA</td>\n",
       "      <td>2009-04-29 00:00:00+00:00</td>\n",
       "      <td>A</td>\n",
       "    </tr>\n",
       "    <tr>\n",
       "      <th>67712</th>\n",
       "      <td>charles sizemore radio interview saturday morning</td>\n",
       "      <td>Charles Lewis Sizemore CFA</td>\n",
       "      <td>2009-05-22 00:00:00+00:00</td>\n",
       "      <td>AM</td>\n",
       "    </tr>\n",
       "  </tbody>\n",
       "</table>\n",
       "</div>"
      ],
      "text/plain": [
       "                                                  headline  \\\n",
       "879310                        how treasuries and etfs work   \n",
       "519806        update on the luxury sector 2nd quarter 2009   \n",
       "1390006       update on the luxury sector 2nd quarter 2009   \n",
       "1432                                going against the herd   \n",
       "67712    charles sizemore radio interview saturday morning   \n",
       "\n",
       "                          publisher                      date stock  \n",
       "879310                 Paco Ahlgren 2009-02-14 00:00:00+00:00   NAV  \n",
       "519806   Charles Lewis Sizemore CFA 2009-04-27 00:00:00+00:00    FT  \n",
       "1390006  Charles Lewis Sizemore CFA 2009-04-27 00:00:00+00:00     Y  \n",
       "1432     Charles Lewis Sizemore CFA 2009-04-29 00:00:00+00:00     A  \n",
       "67712    Charles Lewis Sizemore CFA 2009-05-22 00:00:00+00:00    AM  "
      ]
     },
     "execution_count": 18,
     "metadata": {},
     "output_type": "execute_result"
    }
   ],
   "source": [
    "df.head()"
   ]
  },
  {
   "cell_type": "code",
   "execution_count": 19,
   "metadata": {},
   "outputs": [
    {
     "data": {
      "text/html": [
       "<div>\n",
       "<style scoped>\n",
       "    .dataframe tbody tr th:only-of-type {\n",
       "        vertical-align: middle;\n",
       "    }\n",
       "\n",
       "    .dataframe tbody tr th {\n",
       "        vertical-align: top;\n",
       "    }\n",
       "\n",
       "    .dataframe thead th {\n",
       "        text-align: right;\n",
       "    }\n",
       "</style>\n",
       "<table border=\"1\" class=\"dataframe\">\n",
       "  <thead>\n",
       "    <tr style=\"text-align: right;\">\n",
       "      <th></th>\n",
       "      <th>headline</th>\n",
       "      <th>sentiment</th>\n",
       "    </tr>\n",
       "  </thead>\n",
       "  <tbody>\n",
       "    <tr>\n",
       "      <th>879310</th>\n",
       "      <td>how treasuries and etfs work</td>\n",
       "      <td>0.2263</td>\n",
       "    </tr>\n",
       "    <tr>\n",
       "      <th>519806</th>\n",
       "      <td>update on the luxury sector 2nd quarter 2009</td>\n",
       "      <td>0.0000</td>\n",
       "    </tr>\n",
       "    <tr>\n",
       "      <th>1390006</th>\n",
       "      <td>update on the luxury sector 2nd quarter 2009</td>\n",
       "      <td>0.0000</td>\n",
       "    </tr>\n",
       "    <tr>\n",
       "      <th>1432</th>\n",
       "      <td>going against the herd</td>\n",
       "      <td>0.0000</td>\n",
       "    </tr>\n",
       "    <tr>\n",
       "      <th>67712</th>\n",
       "      <td>charles sizemore radio interview saturday morning</td>\n",
       "      <td>0.0000</td>\n",
       "    </tr>\n",
       "  </tbody>\n",
       "</table>\n",
       "</div>"
      ],
      "text/plain": [
       "                                                  headline  sentiment\n",
       "879310                        how treasuries and etfs work     0.2263\n",
       "519806        update on the luxury sector 2nd quarter 2009     0.0000\n",
       "1390006       update on the luxury sector 2nd quarter 2009     0.0000\n",
       "1432                                going against the herd     0.0000\n",
       "67712    charles sizemore radio interview saturday morning     0.0000"
      ]
     },
     "execution_count": 19,
     "metadata": {},
     "output_type": "execute_result"
    }
   ],
   "source": [
    "# Initialize sentiment analyzer\n",
    "analyzer = SentimentIntensityAnalyzer()\n",
    "\n",
    "# Calculate sentiment scores for the headlines\n",
    "def calculate_sentiment(text):\n",
    "    sentiment = analyzer.polarity_scores(text)\n",
    "    return sentiment['compound']  # Use the compound score\n",
    "\n",
    "df['sentiment'] = df['headline'].apply(calculate_sentiment)\n",
    "\n",
    "df[['headline', 'sentiment']].head()"
   ]
  },
  {
   "cell_type": "code",
   "execution_count": 22,
   "metadata": {},
   "outputs": [
    {
     "data": {
      "image/png": "[encoded data removed]",
      "text/plain": [
       "<Figure size 640x480 with 1 Axes>"
      ]
     },
     "metadata": {},
     "output_type": "display_data"
    }
   ],
   "source": [
    "# Plot the distribution of compound scores\n",
    "plt.hist(df['sentiment'], bins=50, color='blue', edgecolor='black')\n",
    "plt.title(\"Distribution of Sentiment Scores\")\n",
    "plt.xlabel(\"Compound Score\")\n",
    "plt.ylabel(\"Frequency\")\n",
    "plt.show()\n"
   ]
  },
  {
   "cell_type": "code",
   "execution_count": null,
   "metadata": {},
   "outputs": [],
   "source": [
    "df['stock_change'] = df['sentiment'].diff()  # Calculate stock change\n",
    "\n",
    "def classify_sentiment_with_stock(row):\n",
    "    if row['stock_change'] > 0.1:\n",
    "        return 'positive'\n",
    "    elif row['stock_change'] < -0.1:\n",
    "        return 'negative'\n",
    "    else:\n",
    "        return 'neutral'\n",
    "\n",
    "df['expected_sentiment'] = df.apply(classify_sentiment_with_stock, axis=1)\n",
    "# Compare expected_sentiment with your model's sentiment and refine thresholds\n"
   ]
  },
  {
   "cell_type": "code",
   "execution_count": 29,
   "metadata": {},
   "outputs": [
    {
     "data": {
      "text/plain": [
       "array(['positive', 'negative'], dtype=object)"
      ]
     },
     "execution_count": 29,
     "metadata": {},
     "output_type": "execute_result"
    }
   ],
   "source": [
    "df['predicted_sentiment'].unique()"
   ]
  },
  {
   "cell_type": "code",
   "execution_count": 30,
   "metadata": {},
   "outputs": [],
   "source": [
    "from sklearn.metrics import accuracy_score\n",
    "\n",
    "thresholds = [-0.1, -0.05, 0.0, 0.05, 0.1]\n",
    "best_threshold = None\n",
    "best_accuracy = 0\n",
    "\n",
    "for threshold in thresholds:\n",
    "    def classify_sentiment(text):\n",
    "        score = analyzer.polarity_scores(text)['compound']\n",
    "        if score >= threshold:\n",
    "            return 'positive'\n",
    "        elif score <= -threshold:\n",
    "            return 'negative'\n",
    "        else:\n",
    "            return 'neutral'\n",
    "\n",
    "    df['predicted_sentiment'] = df['headline'].apply(classify_sentiment)\n",
    "#     accuracy = accuracy_score(df['true_sentiment'], df['predicted_sentiment'])\n",
    "#     if accuracy > best_accuracy:\n",
    "#         best_accuracy = accuracy\n",
    "#         best_threshold = threshold\n",
    "\n",
    "# print(f\"Best threshold: {best_threshold}, Best accuracy: {best_accuracy}\")\n"
   ]
  },
  {
   "cell_type": "code",
   "execution_count": 32,
   "metadata": {},
   "outputs": [
    {
     "data": {
      "text/plain": [
       "predicted_sentiment\n",
       "neutral     747599\n",
       "positive    438299\n",
       "negative    221430\n",
       "Name: count, dtype: int64"
      ]
     },
     "execution_count": 32,
     "metadata": {},
     "output_type": "execute_result"
    }
   ],
   "source": [
    "df['predicted_sentiment'].value_counts()"
   ]
  },
  {
   "cell_type": "markdown",
   "metadata": {},
   "source": [
    "I use the stack sentiment that I have a dataset like META, NVDA, AAPL, AMZN, GOOGL, MSFT, and TSLA"
   ]
  },
  {
   "cell_type": "code",
   "execution_count": 71,
   "metadata": {},
   "outputs": [],
   "source": [
    "df = df[(df['stock'] == \"NVDA\") | (df['stock'] == \"AAPL\") | (df['stock'] == \"AMZN\") | (df['stock'] == \"GOOG\")| (df['stock'] == \"META\") | (df['stock'] == \"MSFT\")| (df['stock'] == \"TSLA\")]"
   ]
  },
  {
   "cell_type": "code",
   "execution_count": 73,
   "metadata": {},
   "outputs": [
    {
     "data": {
      "text/plain": [
       "array(['NVDA', 'GOOG', 'TSLA', 'AAPL', 'AMZN'], dtype=object)"
      ]
     },
     "execution_count": 73,
     "metadata": {},
     "output_type": "execute_result"
    }
   ],
   "source": [
    "df['stock'].unique()"
   ]
  },
  {
   "cell_type": "code",
   "execution_count": null,
   "metadata": {},
   "outputs": [],
   "source": [
    "# Initialize sentiment analyzer\n",
    "analyzer = SentimentIntensityAnalyzer()\n",
    "\n",
    "# Define a function to calculate sentiment category\n",
    "def calculate_sentiment_category(text):\n",
    "    sentiment = analyzer.polarity_scores(text)['compound']  # Use the compound score\n",
    "    if sentiment >= 0:\n",
    "        return 'positive'\n",
    "    elif sentiment <= 0:\n",
    "        return 'negative'\n",
    "    else:\n",
    "        return 'neutral'\n",
    "\n",
    "# Apply the function to classify each headline\n",
    "df['sentiment'] = df['headline'].apply(calculate_sentiment_category)\n",
    "\n",
    "# View results\n",
    "print(df[['headline', 'sentiment']].head())\n"
   ]
  },
  {
   "cell_type": "code",
   "execution_count": 129,
   "metadata": {},
   "outputs": [
    {
     "data": {
      "text/html": [
       "<div>\n",
       "<style scoped>\n",
       "    .dataframe tbody tr th:only-of-type {\n",
       "        vertical-align: middle;\n",
       "    }\n",
       "\n",
       "    .dataframe tbody tr th {\n",
       "        vertical-align: top;\n",
       "    }\n",
       "\n",
       "    .dataframe thead th {\n",
       "        text-align: right;\n",
       "    }\n",
       "</style>\n",
       "<table border=\"1\" class=\"dataframe\">\n",
       "  <thead>\n",
       "    <tr style=\"text-align: right;\">\n",
       "      <th></th>\n",
       "      <th>date</th>\n",
       "      <th>stock</th>\n",
       "      <th>sentiment</th>\n",
       "    </tr>\n",
       "  </thead>\n",
       "  <tbody>\n",
       "    <tr>\n",
       "      <th>1039004</th>\n",
       "      <td>2020-06-11 20:49:41+00:00</td>\n",
       "      <td>PVH</td>\n",
       "      <td>0.0000</td>\n",
       "    </tr>\n",
       "    <tr>\n",
       "      <th>1357564</th>\n",
       "      <td>2020-06-11 20:51:33+00:00</td>\n",
       "      <td>WMT</td>\n",
       "      <td>0.2732</td>\n",
       "    </tr>\n",
       "    <tr>\n",
       "      <th>1269090</th>\n",
       "      <td>2020-06-11 21:01:39+00:00</td>\n",
       "      <td>TWTR</td>\n",
       "      <td>-0.2500</td>\n",
       "    </tr>\n",
       "    <tr>\n",
       "      <th>980443</th>\n",
       "      <td>2020-06-11 21:11:20+00:00</td>\n",
       "      <td>PCG</td>\n",
       "      <td>0.4215</td>\n",
       "    </tr>\n",
       "    <tr>\n",
       "      <th>1343658</th>\n",
       "      <td>2020-06-11 21:12:35+00:00</td>\n",
       "      <td>WFC</td>\n",
       "      <td>0.0000</td>\n",
       "    </tr>\n",
       "  </tbody>\n",
       "</table>\n",
       "</div>"
      ],
      "text/plain": [
       "                             date stock  sentiment\n",
       "1039004 2020-06-11 20:49:41+00:00   PVH     0.0000\n",
       "1357564 2020-06-11 20:51:33+00:00   WMT     0.2732\n",
       "1269090 2020-06-11 21:01:39+00:00  TWTR    -0.2500\n",
       "980443  2020-06-11 21:11:20+00:00   PCG     0.4215\n",
       "1343658 2020-06-11 21:12:35+00:00   WFC     0.0000"
      ]
     },
     "execution_count": 129,
     "metadata": {},
     "output_type": "execute_result"
    }
   ],
   "source": [
    "# Keep relevant columns for quantitative analysis\n",
    "quant_df = df[['date', 'stock', 'sentiment']].copy()\n",
    "quant_df.tail()"
   ]
  },
  {
   "cell_type": "code",
   "execution_count": null,
   "metadata": {},
   "outputs": [],
   "source": [
    "# Simulate dummy stock prices for demonstration\n",
    "np.random.seed(42)\n",
    "unique_stocks = quant_df['stock'].unique()\n",
    "price_data = {stock: np.random.uniform(50, 500, len(quant_df[quant_df['stock'] == stock])) for stock in unique_stocks}\n",
    "\n",
    "# Add dummy prices to the dataframe\n",
    "quant_df['price'] = quant_df.apply(lambda row: price_data[row['stock']].pop(0), axis=1)\n",
    "print(quant_df.head())"
   ]
  },
  {
   "cell_type": "code",
   "execution_count": 9,
   "metadata": {},
   "outputs": [],
   "source": [
    "from pyti import simple_moving_average as sma\n",
    "# sma_values = sma.simple_moving_average(close_prices, period=20)"
   ]
  },
  {
   "cell_type": "code",
   "execution_count": null,
   "metadata": {},
   "outputs": [],
   "source": [
    "# Group by stock for individual analysis\n",
    "stock_groups = quant_df.groupby('stock')\n",
    "\n",
    "# Calculate indicators for each stock\n",
    "indicators = []\n",
    "\n",
    "for stock, data in stock_groups:\n",
    "    data = data.sort_values('date')\n",
    "    close_prices = data['price'].values\n",
    "\n",
    "    # Example: Add moving averages and RSI\n",
    "    data['SMA_10'] = talib.SMA(close_prices, timeperiod=10)\n",
    "    data['SMA_20'] = talib.SMA(close_prices, timeperiod=20)\n",
    "    data['RSI'] = talib.RSI(close_prices, timeperiod=14)\n",
    "\n",
    "    indicators.append(data)\n",
    "\n",
    "# Combine data back\n",
    "quant_analysis_df = pd.concat(indicators)\n",
    "print(quant_analysis_df.head())"
   ]
  },
  {
   "cell_type": "code",
   "execution_count": null,
   "metadata": {},
   "outputs": [],
   "source": []
  },
  {
   "cell_type": "code",
   "execution_count": null,
   "metadata": {},
   "outputs": [],
   "source": []
  },
  {
   "cell_type": "code",
   "execution_count": null,
   "metadata": {},
   "outputs": [],
   "source": []
  },
  {
   "cell_type": "code",
   "execution_count": null,
   "metadata": {},
   "outputs": [],
   "source": [
    "from tensorflow.keras.preprocessing.text import Tokenizer\n",
    "from tensorflow.keras.preprocessing.sequence import pad_sequences\n",
    "from sklearn.model_selection import train_test_split\n",
    "import numpy as np\n",
    "\n",
    "# Step 1: Tokenize text data\n",
    "max_words = 10000\n",
    "max_len = 100\n",
    "\n",
    "tokenizer = Tokenizer(num_words=max_words)\n",
    "tokenizer.fit_on_texts(df['headline'])\n",
    "\n",
    "# Convert headlines to sequences\n",
    "sequences = tokenizer.texts_to_sequences(df['headline'])\n",
    "padded_sequences = pad_sequences(sequences, maxlen=max_len)\n",
    "\n",
    "# Step 2: Prepare input and output data\n",
    "X = padded_sequences\n",
    "y = df['sentiment'].values\n",
    "\n",
    "# Convert sentiment scores to binary labels (positive/negative sentiment)\n",
    "y = np.where(y >= 0, 1, 0)  # Positive: 1, Negative: 0\n",
    "\n",
    "# Split into train and test sets\n",
    "X_train, X_test, y_train, y_test = train_test_split(X, y, test_size=0.2, random_state=42)\n",
    "\n",
    "print(\"Training and test data prepared.\")\n"
   ]
  },
  {
   "cell_type": "code",
   "execution_count": null,
   "metadata": {},
   "outputs": [],
   "source": [
    "from tensorflow.keras.models import Sequential\n",
    "from tensorflow.keras.layers import Embedding, LSTM, Dense, Dropout\n",
    "\n",
    "# Define LSTM model\n",
    "embedding_dim = 50\n",
    "\n",
    "model = Sequential([\n",
    "    Embedding(input_dim=max_words, output_dim=embedding_dim, input_length=max_len),\n",
    "    LSTM(128, return_sequences=False),\n",
    "    Dropout(0.2),\n",
    "    Dense(64, activation='relu'),\n",
    "    Dropout(0.2),\n",
    "    Dense(1, activation='sigmoid')\n",
    "])\n",
    "\n",
    "# Compile the model\n",
    "model.compile(optimizer='adam', loss='binary_crossentropy', metrics=['accuracy'])\n",
    "\n",
    "# Train the model\n",
    "history = model.fit(X_train, y_train, epochs=5, batch_size=32, validation_split=0.2)\n",
    "\n",
    "# Evaluate the model\n",
    "loss, accuracy = model.evaluate(X_test, y_test)\n",
    "print(f\"Test Accuracy: {accuracy:.2f}\")\n"
   ]
  },
  {
   "cell_type": "code",
   "execution_count": null,
   "metadata": {},
   "outputs": [],
   "source": [
    "\n"
   ]
  },
  {
   "cell_type": "code",
   "execution_count": null,
   "metadata": {},
   "outputs": [],
   "source": [
    "\n",
    "# Simulate dummy stock prices for demonstration\n",
    "np.random.seed(42)\n",
    "unique_stocks = quant_df['stock'].unique()\n",
    "price_data = {stock: np.random.uniform(50, 500, len(quant_df[quant_df['stock'] == stock])) for stock in unique_stocks}\n",
    "\n",
    "# Add dummy prices to the dataframe\n",
    "quant_df['price'] = quant_df.apply(lambda row: price_data[row['stock']].pop(0), axis=1)\n",
    "print(quant_df.head())"
   ]
  },
  {
   "cell_type": "code",
   "execution_count": null,
   "metadata": {},
   "outputs": [],
   "source": []
  },
  {
   "cell_type": "code",
   "execution_count": 8,
   "metadata": {},
   "outputs": [],
   "source": [
    "# Transform headline or sentiment to lower case, remove numbers and special character\n",
    "df.loc[:,'headline'] = df['headline'].str.lower().apply(lambda x: re.sub(r'[^a-zA-Z\\s]', '', x))\n"
   ]
  },
  {
   "cell_type": "markdown",
   "metadata": {},
   "source": [
    "I also believe that ***url*** is not important for analysis, So I decieded to drop the ***url*** as a column label"
   ]
  },
  {
   "cell_type": "code",
   "execution_count": 9,
   "metadata": {},
   "outputs": [],
   "source": [
    "df = df.drop(columns=[\"url\"])"
   ]
  },
  {
   "cell_type": "code",
   "execution_count": 26,
   "metadata": {},
   "outputs": [
    {
     "data": {
      "text/html": [
       "<div>\n",
       "<style scoped>\n",
       "    .dataframe tbody tr th:only-of-type {\n",
       "        vertical-align: middle;\n",
       "    }\n",
       "\n",
       "    .dataframe tbody tr th {\n",
       "        vertical-align: top;\n",
       "    }\n",
       "\n",
       "    .dataframe thead th {\n",
       "        text-align: right;\n",
       "    }\n",
       "</style>\n",
       "<table border=\"1\" class=\"dataframe\">\n",
       "  <thead>\n",
       "    <tr style=\"text-align: right;\">\n",
       "      <th></th>\n",
       "      <th>headline</th>\n",
       "      <th>publisher</th>\n",
       "      <th>date</th>\n",
       "      <th>stock</th>\n",
       "    </tr>\n",
       "  </thead>\n",
       "  <tbody>\n",
       "    <tr>\n",
       "      <th>0</th>\n",
       "      <td>stocks that hit week highs on friday</td>\n",
       "      <td>Benzinga Insights</td>\n",
       "      <td>2020-06-05 10:30:54-04:00</td>\n",
       "      <td>A</td>\n",
       "    </tr>\n",
       "    <tr>\n",
       "      <th>1</th>\n",
       "      <td>stocks that hit week highs on wednesday</td>\n",
       "      <td>Benzinga Insights</td>\n",
       "      <td>2020-06-03 10:45:20-04:00</td>\n",
       "      <td>A</td>\n",
       "    </tr>\n",
       "    <tr>\n",
       "      <th>2</th>\n",
       "      <td>biggest movers from friday</td>\n",
       "      <td>Lisa Levin</td>\n",
       "      <td>2020-05-26 04:30:07-04:00</td>\n",
       "      <td>A</td>\n",
       "    </tr>\n",
       "    <tr>\n",
       "      <th>3</th>\n",
       "      <td>stocks moving in fridays midday session</td>\n",
       "      <td>Lisa Levin</td>\n",
       "      <td>2020-05-22 12:45:06-04:00</td>\n",
       "      <td>A</td>\n",
       "    </tr>\n",
       "    <tr>\n",
       "      <th>4</th>\n",
       "      <td>b of a securities maintains neutral on agilent...</td>\n",
       "      <td>Vick Meyer</td>\n",
       "      <td>2020-05-22 11:38:59-04:00</td>\n",
       "      <td>A</td>\n",
       "    </tr>\n",
       "  </tbody>\n",
       "</table>\n",
       "</div>"
      ],
      "text/plain": [
       "                                            headline          publisher  \\\n",
       "0               stocks that hit week highs on friday  Benzinga Insights   \n",
       "1            stocks that hit week highs on wednesday  Benzinga Insights   \n",
       "2                         biggest movers from friday         Lisa Levin   \n",
       "3            stocks moving in fridays midday session         Lisa Levin   \n",
       "4  b of a securities maintains neutral on agilent...         Vick Meyer   \n",
       "\n",
       "                       date stock  \n",
       "0 2020-06-05 10:30:54-04:00     A  \n",
       "1 2020-06-03 10:45:20-04:00     A  \n",
       "2 2020-05-26 04:30:07-04:00     A  \n",
       "3 2020-05-22 12:45:06-04:00     A  \n",
       "4 2020-05-22 11:38:59-04:00     A  "
      ]
     },
     "execution_count": 26,
     "metadata": {},
     "output_type": "execute_result"
    }
   ],
   "source": [
    "df.head()"
   ]
  },
  {
   "cell_type": "code",
   "execution_count": 10,
   "metadata": {},
   "outputs": [
    {
     "data": {
      "text/plain": [
       "publisher\n",
       "Benzinga Newsdesk    14750\n",
       "Lisa Levin           12408\n",
       "ETF Professor         4362\n",
       "Paul Quintaro         4212\n",
       "Benzinga Newsdesk     3177\n",
       "                     ...  \n",
       "Jennifer Lynn            1\n",
       "Tatro Capital            1\n",
       "webmaster                1\n",
       "Thomas Stein             1\n",
       "Usman Rafi               1\n",
       "Name: count, Length: 225, dtype: int64"
      ]
     },
     "execution_count": 10,
     "metadata": {},
     "output_type": "execute_result"
    }
   ],
   "source": [
    "# To check the unique values of 'publisher' column I can use either\n",
    "df[\"publisher\"].nunique()\n",
    "# or\n",
    "df['publisher'].value_counts()"
   ]
  },
  {
   "cell_type": "markdown",
   "metadata": {},
   "source": [
    "Here we have <span style = 'color:orange'>***255***</span> unique values"
   ]
  },
  {
   "cell_type": "code",
   "execution_count": 33,
   "metadata": {},
   "outputs": [
    {
     "data": {
      "text/plain": [
       "(55987, 4)"
      ]
     },
     "execution_count": 33,
     "metadata": {},
     "output_type": "execute_result"
    }
   ],
   "source": [
    "df.shape"
   ]
  },
  {
   "cell_type": "markdown",
   "metadata": {},
   "source": [
    "I have an options to use <span style = \"color:teal\">***one-hot-encoding***</span> for encoding but, in my case, since there are \n",
    "255 unique publishers among thetotal of 55987,this might lead to high dimensionality (many columns), which can be inefficient and hard to manage in machine learning models. Therefore, using <span style = \"color:teal\">***one-hot-encoding***</span> is inefficient"
   ]
  },
  {
   "cell_type": "markdown",
   "metadata": {},
   "source": [
    "Therefore, <span style = \"color:teal\">***Label Encoding***</span> recommended for large number of categories as like the data I have"
   ]
  },
  {
   "cell_type": "code",
   "execution_count": 11,
   "metadata": {},
   "outputs": [],
   "source": [
    "# Initialize the label encoder\n",
    "encoder = LabelEncoder()\n",
    "\n",
    "# Apply label encoding to the 'publisher' column\n",
    "df['publisher'] = encoder.fit_transform(df['publisher'])"
   ]
  },
  {
   "cell_type": "code",
   "execution_count": 12,
   "metadata": {},
   "outputs": [
    {
     "data": {
      "text/html": [
       "<div>\n",
       "<style scoped>\n",
       "    .dataframe tbody tr th:only-of-type {\n",
       "        vertical-align: middle;\n",
       "    }\n",
       "\n",
       "    .dataframe tbody tr th {\n",
       "        vertical-align: top;\n",
       "    }\n",
       "\n",
       "    .dataframe thead th {\n",
       "        text-align: right;\n",
       "    }\n",
       "</style>\n",
       "<table border=\"1\" class=\"dataframe\">\n",
       "  <thead>\n",
       "    <tr style=\"text-align: right;\">\n",
       "      <th></th>\n",
       "      <th>headline</th>\n",
       "      <th>publisher</th>\n",
       "      <th>date</th>\n",
       "      <th>stock</th>\n",
       "    </tr>\n",
       "  </thead>\n",
       "  <tbody>\n",
       "    <tr>\n",
       "      <th>0</th>\n",
       "      <td>stocks that hit week highs on friday</td>\n",
       "      <td>18</td>\n",
       "      <td>2020-06-05 10:30:54-04:00</td>\n",
       "      <td>A</td>\n",
       "    </tr>\n",
       "    <tr>\n",
       "      <th>1</th>\n",
       "      <td>stocks that hit week highs on wednesday</td>\n",
       "      <td>18</td>\n",
       "      <td>2020-06-03 10:45:20-04:00</td>\n",
       "      <td>A</td>\n",
       "    </tr>\n",
       "    <tr>\n",
       "      <th>2</th>\n",
       "      <td>biggest movers from friday</td>\n",
       "      <td>122</td>\n",
       "      <td>2020-05-26 04:30:07-04:00</td>\n",
       "      <td>A</td>\n",
       "    </tr>\n",
       "    <tr>\n",
       "      <th>3</th>\n",
       "      <td>stocks moving in fridays midday session</td>\n",
       "      <td>122</td>\n",
       "      <td>2020-05-22 12:45:06-04:00</td>\n",
       "      <td>A</td>\n",
       "    </tr>\n",
       "    <tr>\n",
       "      <th>4</th>\n",
       "      <td>b of a securities maintains neutral on agilent...</td>\n",
       "      <td>214</td>\n",
       "      <td>2020-05-22 11:38:59-04:00</td>\n",
       "      <td>A</td>\n",
       "    </tr>\n",
       "  </tbody>\n",
       "</table>\n",
       "</div>"
      ],
      "text/plain": [
       "                                            headline  publisher  \\\n",
       "0               stocks that hit week highs on friday         18   \n",
       "1            stocks that hit week highs on wednesday         18   \n",
       "2                         biggest movers from friday        122   \n",
       "3            stocks moving in fridays midday session        122   \n",
       "4  b of a securities maintains neutral on agilent...        214   \n",
       "\n",
       "                       date stock  \n",
       "0 2020-06-05 10:30:54-04:00     A  \n",
       "1 2020-06-03 10:45:20-04:00     A  \n",
       "2 2020-05-26 04:30:07-04:00     A  \n",
       "3 2020-05-22 12:45:06-04:00     A  \n",
       "4 2020-05-22 11:38:59-04:00     A  "
      ]
     },
     "execution_count": 12,
     "metadata": {},
     "output_type": "execute_result"
    }
   ],
   "source": [
    "df.head()"
   ]
  },
  {
   "cell_type": "code",
   "execution_count": 13,
   "metadata": {},
   "outputs": [
    {
     "data": {
      "text/plain": [
       "stock\n",
       "ZX       10\n",
       "A        10\n",
       "AA       10\n",
       "AAC      10\n",
       "ZUMZ     10\n",
       "         ..\n",
       "ATMP      1\n",
       "ACCU      1\n",
       "ZMLP      1\n",
       "ZIONW     1\n",
       "SMLL      1\n",
       "Name: count, Length: 6204, dtype: int64"
      ]
     },
     "execution_count": 13,
     "metadata": {},
     "output_type": "execute_result"
    }
   ],
   "source": [
    "\n",
    "df['stock'].value_counts()"
   ]
  },
  {
   "cell_type": "code",
   "execution_count": 14,
   "metadata": {},
   "outputs": [],
   "source": [
    "df['stock'] = encoder.fit_transform(df['stock'])"
   ]
  },
  {
   "cell_type": "code",
   "execution_count": 22,
   "metadata": {},
   "outputs": [
    {
     "data": {
      "text/html": [
       "<div>\n",
       "<style scoped>\n",
       "    .dataframe tbody tr th:only-of-type {\n",
       "        vertical-align: middle;\n",
       "    }\n",
       "\n",
       "    .dataframe tbody tr th {\n",
       "        vertical-align: top;\n",
       "    }\n",
       "\n",
       "    .dataframe thead th {\n",
       "        text-align: right;\n",
       "    }\n",
       "</style>\n",
       "<table border=\"1\" class=\"dataframe\">\n",
       "  <thead>\n",
       "    <tr style=\"text-align: right;\">\n",
       "      <th></th>\n",
       "      <th>headline</th>\n",
       "      <th>publisher</th>\n",
       "      <th>date</th>\n",
       "      <th>stock</th>\n",
       "      <th>publisher_encoded</th>\n",
       "      <th>stock_encoded</th>\n",
       "    </tr>\n",
       "  </thead>\n",
       "  <tbody>\n",
       "    <tr>\n",
       "      <th>0</th>\n",
       "      <td>stocks that hit week highs on friday</td>\n",
       "      <td>18</td>\n",
       "      <td>2020-06-05 10:30:54-04:00</td>\n",
       "      <td>0</td>\n",
       "      <td>18</td>\n",
       "      <td>0</td>\n",
       "    </tr>\n",
       "    <tr>\n",
       "      <th>1</th>\n",
       "      <td>stocks that hit week highs on wednesday</td>\n",
       "      <td>18</td>\n",
       "      <td>2020-06-03 10:45:20-04:00</td>\n",
       "      <td>0</td>\n",
       "      <td>18</td>\n",
       "      <td>0</td>\n",
       "    </tr>\n",
       "    <tr>\n",
       "      <th>2</th>\n",
       "      <td>biggest movers from friday</td>\n",
       "      <td>122</td>\n",
       "      <td>2020-05-26 04:30:07-04:00</td>\n",
       "      <td>0</td>\n",
       "      <td>122</td>\n",
       "      <td>0</td>\n",
       "    </tr>\n",
       "    <tr>\n",
       "      <th>3</th>\n",
       "      <td>stocks moving in fridays midday session</td>\n",
       "      <td>122</td>\n",
       "      <td>2020-05-22 12:45:06-04:00</td>\n",
       "      <td>0</td>\n",
       "      <td>122</td>\n",
       "      <td>0</td>\n",
       "    </tr>\n",
       "    <tr>\n",
       "      <th>4</th>\n",
       "      <td>b of a securities maintains neutral on agilent...</td>\n",
       "      <td>214</td>\n",
       "      <td>2020-05-22 11:38:59-04:00</td>\n",
       "      <td>0</td>\n",
       "      <td>214</td>\n",
       "      <td>0</td>\n",
       "    </tr>\n",
       "  </tbody>\n",
       "</table>\n",
       "</div>"
      ],
      "text/plain": [
       "                                            headline publisher  \\\n",
       "0               stocks that hit week highs on friday        18   \n",
       "1            stocks that hit week highs on wednesday        18   \n",
       "2                         biggest movers from friday       122   \n",
       "3            stocks moving in fridays midday session       122   \n",
       "4  b of a securities maintains neutral on agilent...       214   \n",
       "\n",
       "                       date stock  publisher_encoded  stock_encoded  \n",
       "0 2020-06-05 10:30:54-04:00     0                 18              0  \n",
       "1 2020-06-03 10:45:20-04:00     0                 18              0  \n",
       "2 2020-05-26 04:30:07-04:00     0                122              0  \n",
       "3 2020-05-22 12:45:06-04:00     0                122              0  \n",
       "4 2020-05-22 11:38:59-04:00     0                214              0  "
      ]
     },
     "execution_count": 22,
     "metadata": {},
     "output_type": "execute_result"
    }
   ],
   "source": [
    "df.head()"
   ]
  },
  {
   "cell_type": "code",
   "execution_count": 16,
   "metadata": {},
   "outputs": [],
   "source": [
    "df['publisher_encoded'] = df['publisher'].astype('category').cat.codes\n"
   ]
  },
  {
   "cell_type": "code",
   "execution_count": 18,
   "metadata": {},
   "outputs": [],
   "source": [
    "df['stock_encoded'] = df['stock'].astype('category').cat.codes\n"
   ]
  },
  {
   "cell_type": "code",
   "execution_count": 20,
   "metadata": {},
   "outputs": [],
   "source": [
    "df['publisher'] = df['publisher'].astype('category')\n",
    "df['stock'] = df['stock'].astype('category')"
   ]
  },
  {
   "cell_type": "code",
   "execution_count": null,
   "metadata": {},
   "outputs": [],
   "source": [
    "df = df.drop_duplicates()"
   ]
  },
  {
   "cell_type": "code",
   "execution_count": null,
   "metadata": {},
   "outputs": [],
   "source": [
    "df['publisher'] = df['publisher'].astype('category')"
   ]
  },
  {
   "cell_type": "code",
   "execution_count": null,
   "metadata": {},
   "outputs": [],
   "source": [
    "df['year'] = df['date'].dt.year\n",
    "df['month'] = df['date'].dt.month\n",
    "df['day_of_week'] = df['date'].dt.day_name()"
   ]
  },
  {
   "cell_type": "code",
   "execution_count": null,
   "metadata": {},
   "outputs": [],
   "source": [
    "df['headline_length'] = df['headline'].str.len()"
   ]
  },
  {
   "cell_type": "code",
   "execution_count": null,
   "metadata": {},
   "outputs": [],
   "source": [
    "print(df.info())\n",
    "print(df.isnull().sum())"
   ]
  }
 ],
 "metadata": {
  "kernelspec": {
   "display_name": "Python 3",
   "language": "python",
   "name": "python3"
  },
  "language_info": {
   "codemirror_mode": {
    "name": "ipython",
    "version": 3
   },
   "file_extension": ".py",
   "mimetype": "text/x-python",
   "name": "python",
   "nbconvert_exporter": "python",
   "pygments_lexer": "ipython3",
   "version": "3.13.1"
  }
 },
 "nbformat": 4,
 "nbformat_minor": 2
}
